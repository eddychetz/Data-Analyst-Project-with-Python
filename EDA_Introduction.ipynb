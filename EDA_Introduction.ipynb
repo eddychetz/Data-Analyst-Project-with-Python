{
  "nbformat": 4,
  "nbformat_minor": 0,
  "metadata": {
    "kernelspec": {
      "display_name": "Python 3",
      "language": "python",
      "name": "python3"
    },
    "language_info": {
      "codemirror_mode": {
        "name": "ipython",
        "version": 3
      },
      "file_extension": ".py",
      "mimetype": "text/x-python",
      "name": "python",
      "nbconvert_exporter": "python",
      "pygments_lexer": "ipython3",
      "version": "3.7.6"
    },
    "colab": {
      "name": "EDA-Introduction.ipynb",
      "provenance": [],
      "collapsed_sections": [],
      "include_colab_link": true
    }
  },
  "cells": [
    {
      "cell_type": "markdown",
      "metadata": {
        "id": "view-in-github",
        "colab_type": "text"
      },
      "source": [
        "<a href=\"https://colab.research.google.com/github/eddychetz/Data-Analytics-and-Visualization-Capstone-Project-with-Python/blob/main/EDA_Introduction.ipynb\" target=\"_parent\"><img src=\"https://colab.research.google.com/assets/colab-badge.svg\" alt=\"Open In Colab\"/></a>"
      ]
    },
    {
      "cell_type": "markdown",
      "metadata": {
        "id": "krv3BVwTbbmZ"
      },
      "source": [
        "<center>\n",
        "    <img src=\"https://gitlab.com/ibm/skills-network/courses/placeholder101/-/raw/master/labs/module%201/images/IDSNlogo.png\" width=\"300\" alt=\"cognitiveclass.ai logo\"  />\n",
        "</center>\n"
      ]
    },
    {
      "cell_type": "markdown",
      "metadata": {
        "id": "QngHXNAWbbmx"
      },
      "source": [
        "# **Exploratory Data Analysis Lab: Introduction**\n",
        "\n"
      ]
    },
    {
      "cell_type": "markdown",
      "metadata": {
        "id": "defJ_yjCbbmz"
      },
      "source": [
        "Estimated time needed: **30** minutes\n"
      ]
    },
    {
      "cell_type": "markdown",
      "metadata": {
        "id": "nxDYz6Glbbmz"
      },
      "source": [
        "In this module you get to work with the cleaned dataset from the previous module.\n",
        "\n",
        "In this assignment you will perform the task of exploratory data analysis.\n",
        "You will find out the distribution of data, presence of outliers and also determine the correlation between different columns in the dataset.\n"
      ]
    },
    {
      "cell_type": "markdown",
      "metadata": {
        "id": "ATakR0twbbm0"
      },
      "source": [
        "## Objectives\n"
      ]
    },
    {
      "cell_type": "markdown",
      "metadata": {
        "id": "Dbz3bpxtbbm1"
      },
      "source": [
        "In this lab you will perform the following:\n"
      ]
    },
    {
      "cell_type": "markdown",
      "metadata": {
        "id": "rkBJR-25bbm1"
      },
      "source": [
        "-   Identify the distribution of data in the dataset.\n",
        "\n",
        "-   Identify outliers in the dataset.\n",
        "\n",
        "-   Remove outliers from the dataset.\n",
        "\n",
        "-   Identify correlation between features in the dataset.\n"
      ]
    },
    {
      "cell_type": "markdown",
      "metadata": {
        "id": "hFbRE9aLbbm2"
      },
      "source": [
        "* * *\n"
      ]
    },
    {
      "cell_type": "markdown",
      "metadata": {
        "id": "LBSn5GKkbbm2"
      },
      "source": [
        "## Hands on Lab\n"
      ]
    },
    {
      "cell_type": "markdown",
      "metadata": {
        "id": "N9Dq2u3qbbm3"
      },
      "source": [
        "Import the pandas module.\n"
      ]
    },
    {
      "cell_type": "code",
      "metadata": {
        "id": "dOISUboqbbm3"
      },
      "source": [
        "import pandas as pd\n",
        "pd.options.mode.chained_assignment = None  # default='warn'\n",
        "import warnings\n",
        "warnings.simplefilter(action='ignore', category=FutureWarning)"
      ],
      "execution_count": null,
      "outputs": []
    },
    {
      "cell_type": "markdown",
      "metadata": {
        "id": "hYufytczbbm5"
      },
      "source": [
        "Load the dataset into a dataframe.\n"
      ]
    },
    {
      "cell_type": "code",
      "metadata": {
        "id": "7dAsYDbQbbm5"
      },
      "source": [
        "df = pd.read_csv(\"https://cf-courses-data.s3.us.cloud-object-storage.appdomain.cloud/IBM-DA0321EN-SkillsNetwork/LargeData/m2_survey_data.csv\")"
      ],
      "execution_count": null,
      "outputs": []
    },
    {
      "cell_type": "markdown",
      "metadata": {
        "id": "2176hs-Cbbm6"
      },
      "source": [
        "## Distribution\n"
      ]
    },
    {
      "cell_type": "markdown",
      "metadata": {
        "id": "7UFPYHw7bbm6"
      },
      "source": [
        "### Determine how the data is distributed\n"
      ]
    },
    {
      "cell_type": "markdown",
      "metadata": {
        "id": "IYPNwMTSbbm6"
      },
      "source": [
        "The column `ConvertedComp` contains Salary converted to annual USD salaries using the exchange rate on 2019-02-01.\n",
        "\n",
        "This assumes 12 working months and 50 working weeks.\n"
      ]
    },
    {
      "cell_type": "markdown",
      "metadata": {
        "id": "3uouViv5bbm7"
      },
      "source": [
        "Plot the distribution curve for the column `ConvertedComp`.\n"
      ]
    },
    {
      "cell_type": "code",
      "metadata": {
        "colab": {
          "base_uri": "https://localhost:8080/",
          "height": 289
        },
        "id": "jwZORJbtbbm7",
        "outputId": "1877cff0-72dc-4bcd-e6db-9f945a65d79f"
      },
      "source": [
        "# your code goes here\n",
        "import matplotlib.pyplot as plt\n",
        "from scipy.stats import gaussian_kde as kde\n",
        "df_cc = df['ConvertedComp']\n",
        "ax = df_cc.plot.kde(bw_method=1)\n",
        "plt.show()"
      ],
      "execution_count": null,
      "outputs": [
        {
          "output_type": "display_data",
          "data": {
            "image/png": "[encoded data removed]",
            "text/plain": [
              "<Figure size 432x288 with 1 Axes>"
            ]
          },
          "metadata": {
            "tags": [],
            "needs_background": "light"
          }
        }
      ]
    },
    {
      "cell_type": "markdown",
      "metadata": {
        "id": "6gK6Fbqubbm8"
      },
      "source": [
        "Plot the histogram for the column `ConvertedComp`.\n"
      ]
    },
    {
      "cell_type": "code",
      "metadata": {
        "colab": {
          "base_uri": "https://localhost:8080/",
          "height": 278
        },
        "id": "Rvai3Ph1bbm9",
        "outputId": "81cf93a4-d76b-412a-fa91-43cc89c3849a"
      },
      "source": [
        "# your code goes here\n",
        "df_plot.plot(kind='hist', bins=25)\n",
        "plt.show()\n"
      ],
      "execution_count": null,
      "outputs": [
        {
          "output_type": "display_data",
          "data": {
            "image/png": "[encoded data removed]",
            "text/plain": [
              "<Figure size 432x288 with 1 Axes>"
            ]
          },
          "metadata": {
            "tags": [],
            "needs_background": "light"
          }
        }
      ]
    },
    {
      "cell_type": "markdown",
      "metadata": {
        "id": "unTVUawqbbm9"
      },
      "source": [
        "What is the median of the column `ConvertedComp`?\n"
      ]
    },
    {
      "cell_type": "code",
      "metadata": {
        "colab": {
          "base_uri": "https://localhost:8080/"
        },
        "id": "AU6LQ9bQbbm-",
        "outputId": "32a9f93c-b35a-4ebb-85a7-aa89ac72b244"
      },
      "source": [
        "# your code goes here\n",
        "df.ConvertedComp.median()"
      ],
      "execution_count": null,
      "outputs": [
        {
          "output_type": "execute_result",
          "data": {
            "text/plain": [
              "57745.0"
            ]
          },
          "metadata": {
            "tags": []
          },
          "execution_count": 304
        }
      ]
    },
    {
      "cell_type": "markdown",
      "metadata": {
        "id": "2RyiozAbbbm_"
      },
      "source": [
        "How many responders identified themselves only as a **Man**?\n"
      ]
    },
    {
      "cell_type": "code",
      "metadata": {
        "colab": {
          "base_uri": "https://localhost:8080/"
        },
        "id": "_r69RTSebbm_",
        "outputId": "1956f742-1059-4c86-f727-532df9ad35f8"
      },
      "source": [
        "# your code goes here\n",
        "df.Gender.value_counts()['Man']"
      ],
      "execution_count": null,
      "outputs": [
        {
          "output_type": "execute_result",
          "data": {
            "text/plain": [
              "10480"
            ]
          },
          "metadata": {
            "tags": []
          },
          "execution_count": 305
        }
      ]
    },
    {
      "cell_type": "markdown",
      "metadata": {
        "id": "xRzufemgbbnA"
      },
      "source": [
        "Find out the  median ConvertedComp of responders identified themselves only as a **Woman**?\n"
      ]
    },
    {
      "cell_type": "code",
      "metadata": {
        "colab": {
          "base_uri": "https://localhost:8080/"
        },
        "id": "fW58lJJEbbnA",
        "outputId": "e2d67f19-6075-4098-ac92-358ecfe598b5"
      },
      "source": [
        "# your code goes here\n",
        "df_woman = df[df['Gender']=='Woman']\n",
        "df_woman.ConvertedComp.median()"
      ],
      "execution_count": null,
      "outputs": [
        {
          "output_type": "execute_result",
          "data": {
            "text/plain": [
              "57708.0"
            ]
          },
          "metadata": {
            "tags": []
          },
          "execution_count": 306
        }
      ]
    },
    {
      "cell_type": "markdown",
      "metadata": {
        "id": "eYWuzUVsbbnA"
      },
      "source": [
        "Give the five number summary for the column `Age`?\n"
      ]
    },
    {
      "cell_type": "markdown",
      "metadata": {
        "id": "oYXZ057TbbnB"
      },
      "source": [
        "**Double click here for hint**.\n",
        "\n",
        "<!--\n",
        "min,q1,median,q3,max of a column are its five number summary.\n",
        "-->\n"
      ]
    },
    {
      "cell_type": "code",
      "metadata": {
        "colab": {
          "base_uri": "https://localhost:8080/",
          "height": 204
        },
        "id": "sbl6w_oJbbnB",
        "outputId": "2d65e0bf-da22-4f1e-9d25-c6459cb97d6e"
      },
      "source": [
        "# your code goes here\n",
        "df.Age.describe().to_frame()[3:8]"
      ],
      "execution_count": null,
      "outputs": [
        {
          "output_type": "execute_result",
          "data": {
            "text/html": [
              "<div>\n",
              "<style scoped>\n",
              "    .dataframe tbody tr th:only-of-type {\n",
              "        vertical-align: middle;\n",
              "    }\n",
              "\n",
              "    .dataframe tbody tr th {\n",
              "        vertical-align: top;\n",
              "    }\n",
              "\n",
              "    .dataframe thead th {\n",
              "        text-align: right;\n",
              "    }\n",
              "</style>\n",
              "<table border=\"1\" class=\"dataframe\">\n",
              "  <thead>\n",
              "    <tr style=\"text-align: right;\">\n",
              "      <th></th>\n",
              "      <th>Age</th>\n",
              "    </tr>\n",
              "  </thead>\n",
              "  <tbody>\n",
              "    <tr>\n",
              "      <th>min</th>\n",
              "      <td>16.0</td>\n",
              "    </tr>\n",
              "    <tr>\n",
              "      <th>25%</th>\n",
              "      <td>25.0</td>\n",
              "    </tr>\n",
              "    <tr>\n",
              "      <th>50%</th>\n",
              "      <td>29.0</td>\n",
              "    </tr>\n",
              "    <tr>\n",
              "      <th>75%</th>\n",
              "      <td>35.0</td>\n",
              "    </tr>\n",
              "    <tr>\n",
              "      <th>max</th>\n",
              "      <td>99.0</td>\n",
              "    </tr>\n",
              "  </tbody>\n",
              "</table>\n",
              "</div>"
            ],
            "text/plain": [
              "      Age\n",
              "min  16.0\n",
              "25%  25.0\n",
              "50%  29.0\n",
              "75%  35.0\n",
              "max  99.0"
            ]
          },
          "metadata": {
            "tags": []
          },
          "execution_count": 307
        }
      ]
    },
    {
      "cell_type": "markdown",
      "metadata": {
        "id": "rdLdpDv7bbnC"
      },
      "source": [
        "Plot a histogram of the column `Age`.\n"
      ]
    },
    {
      "cell_type": "code",
      "metadata": {
        "colab": {
          "base_uri": "https://localhost:8080/",
          "height": 295
        },
        "id": "V17cdkYObbnC",
        "outputId": "bbeff790-29dd-4601-e15d-7938b71a8dfb"
      },
      "source": [
        "# your code goes here\n",
        "df.Age.plot(kind='hist', bins=20)\n",
        "plt.title('Histogram to show Age distribution')\n",
        "plt.xlabel('Age')\n",
        "plt.show()"
      ],
      "execution_count": null,
      "outputs": [
        {
          "output_type": "display_data",
          "data": {
            "image/png": "[encoded data removed]",
            "text/plain": [
              "<Figure size 432x288 with 1 Axes>"
            ]
          },
          "metadata": {
            "tags": [],
            "needs_background": "light"
          }
        }
      ]
    },
    {
      "cell_type": "markdown",
      "metadata": {
        "id": "dNm2TATcbbnC"
      },
      "source": [
        "## Outliers\n"
      ]
    },
    {
      "cell_type": "markdown",
      "metadata": {
        "id": "-ml5lmyXbbnD"
      },
      "source": [
        "### Finding outliers\n"
      ]
    },
    {
      "cell_type": "markdown",
      "metadata": {
        "id": "zBC2yVGsbbnD"
      },
      "source": [
        "Find out if outliers exist in the column `ConvertedComp` using a box plot?\n"
      ]
    },
    {
      "cell_type": "code",
      "metadata": {
        "colab": {
          "base_uri": "https://localhost:8080/",
          "height": 350
        },
        "id": "6lNzqPsE0FBB",
        "outputId": "4a9cfd74-6f05-4d3b-e830-9deb668bed12"
      },
      "source": [
        "import seaborn as sns\n",
        "plt.figure(figsize=(9, 5))\n",
        "sns.boxplot(df['ConvertedComp'], color='green')\n",
        "plt.title(\"Distribution of ConvertedComp\")\n",
        "plt.show()"
      ],
      "execution_count": null,
      "outputs": [
        {
          "output_type": "display_data",
          "data": {
            "image/png": "[encoded data removed]",
            "text/plain": [
              "<Figure size 648x360 with 1 Axes>"
            ]
          },
          "metadata": {
            "tags": [],
            "needs_background": "light"
          }
        }
      ]
    },
    {
      "cell_type": "markdown",
      "metadata": {
        "id": "-oKDfN8qbbnE"
      },
      "source": [
        "Find out the Inter Quartile Range for the column `ConvertedComp`.\n"
      ]
    },
    {
      "cell_type": "code",
      "metadata": {
        "colab": {
          "base_uri": "https://localhost:8080/"
        },
        "id": "xW9FGjmibbnE",
        "outputId": "831317fd-6b55-4f2e-a7a7-b01bd2c33917"
      },
      "source": [
        "# your code goes here\n",
        "Q1 = df['ConvertedComp'].quantile(q=0.25)\n",
        "Q3 = df['ConvertedComp'].quantile(q=0.75)\n",
        "IQR = Q3-Q1\n",
        "IQR"
      ],
      "execution_count": null,
      "outputs": [
        {
          "output_type": "execute_result",
          "data": {
            "text/plain": [
              "73132.0"
            ]
          },
          "metadata": {
            "tags": []
          },
          "execution_count": 310
        }
      ]
    },
    {
      "cell_type": "markdown",
      "metadata": {
        "id": "8piLJNDrbbnE"
      },
      "source": [
        "Find out the upper and lower bounds.\n"
      ]
    },
    {
      "cell_type": "code",
      "metadata": {
        "colab": {
          "base_uri": "https://localhost:8080/"
        },
        "id": "hRN5SLOPbbnF",
        "outputId": "93b6d8fa-6b45-42c2-bb2c-e4fdfd62f0dc"
      },
      "source": [
        "# your code goes here\n",
        "lower_bound = Q1 -(1.5 * IQR) \n",
        "upper_bound = Q3 +(1.5 * IQR)\n",
        "print('The lower bound is :' , lower_bound, ' \\nThe upper bound is :', upper_bound)"
      ],
      "execution_count": null,
      "outputs": [
        {
          "output_type": "stream",
          "text": [
            "The lower bound is : -82830.0  \n",
            "The upper bound is : 209698.0\n"
          ],
          "name": "stdout"
        }
      ]
    },
    {
      "cell_type": "markdown",
      "metadata": {
        "id": "ERmyAKRfbbnF"
      },
      "source": [
        "Identify how many outliers are there in the `ConvertedComp` column.\n"
      ]
    },
    {
      "cell_type": "code",
      "metadata": {
        "colab": {
          "base_uri": "https://localhost:8080/"
        },
        "id": "6gbzHWcgbbnF",
        "outputId": "495cf8ca-5421-4a8d-d7c4-0b81c19751cd"
      },
      "source": [
        "# your code goes here\n",
        "df_out = df.loc[(df['ConvertedComp']<lower_bound) & (upper_bound<df['ConvertedComp'])]\n",
        "df_out.ConvertedComp.sum()\n"
      ],
      "execution_count": null,
      "outputs": [
        {
          "output_type": "execute_result",
          "data": {
            "text/plain": [
              "0.0"
            ]
          },
          "metadata": {
            "tags": []
          },
          "execution_count": 312
        }
      ]
    },
    {
      "cell_type": "code",
      "metadata": {
        "colab": {
          "base_uri": "https://localhost:8080/"
        },
        "id": "QkxYrNiLpnoP",
        "outputId": "998228d3-5ee8-4e28-f7db-59e6f72498e0"
      },
      "source": [
        "df_out.shape"
      ],
      "execution_count": null,
      "outputs": [
        {
          "output_type": "execute_result",
          "data": {
            "text/plain": [
              "(0, 85)"
            ]
          },
          "metadata": {
            "tags": []
          },
          "execution_count": 313
        }
      ]
    },
    {
      "cell_type": "markdown",
      "metadata": {
        "id": "sJQqEl9NbbnG"
      },
      "source": [
        "Create a new dataframe by removing the outliers from the `ConvertedComp` column.\n"
      ]
    },
    {
      "cell_type": "code",
      "metadata": {
        "colab": {
          "base_uri": "https://localhost:8080/",
          "height": 797
        },
        "id": "d2F_r5PkbbnG",
        "outputId": "fb1c65c4-c864-4dcb-a4d2-4c01c13c3525"
      },
      "source": [
        "# your code goes here\n",
        "df_clean = df.loc[(Q1 - 1.5*IQR < df.ConvertedComp) &  (df.ConvertedComp < Q3 + 1.5*IQR)]\n",
        "df_clean.head()"
      ],
      "execution_count": null,
      "outputs": [
        {
          "output_type": "execute_result",
          "data": {
            "text/html": [
              "<div>\n",
              "<style scoped>\n",
              "    .dataframe tbody tr th:only-of-type {\n",
              "        vertical-align: middle;\n",
              "    }\n",
              "\n",
              "    .dataframe tbody tr th {\n",
              "        vertical-align: top;\n",
              "    }\n",
              "\n",
              "    .dataframe thead th {\n",
              "        text-align: right;\n",
              "    }\n",
              "</style>\n",
              "<table border=\"1\" class=\"dataframe\">\n",
              "  <thead>\n",
              "    <tr style=\"text-align: right;\">\n",
              "      <th></th>\n",
              "      <th>Respondent</th>\n",
              "      <th>MainBranch</th>\n",
              "      <th>Hobbyist</th>\n",
              "      <th>OpenSourcer</th>\n",
              "      <th>OpenSource</th>\n",
              "      <th>Employment</th>\n",
              "      <th>Country</th>\n",
              "      <th>Student</th>\n",
              "      <th>EdLevel</th>\n",
              "      <th>UndergradMajor</th>\n",
              "      <th>EduOther</th>\n",
              "      <th>OrgSize</th>\n",
              "      <th>DevType</th>\n",
              "      <th>YearsCode</th>\n",
              "      <th>Age1stCode</th>\n",
              "      <th>YearsCodePro</th>\n",
              "      <th>CareerSat</th>\n",
              "      <th>JobSat</th>\n",
              "      <th>MgrIdiot</th>\n",
              "      <th>MgrMoney</th>\n",
              "      <th>MgrWant</th>\n",
              "      <th>JobSeek</th>\n",
              "      <th>LastHireDate</th>\n",
              "      <th>LastInt</th>\n",
              "      <th>FizzBuzz</th>\n",
              "      <th>JobFactors</th>\n",
              "      <th>ResumeUpdate</th>\n",
              "      <th>CurrencySymbol</th>\n",
              "      <th>CurrencyDesc</th>\n",
              "      <th>CompTotal</th>\n",
              "      <th>CompFreq</th>\n",
              "      <th>ConvertedComp</th>\n",
              "      <th>WorkWeekHrs</th>\n",
              "      <th>WorkPlan</th>\n",
              "      <th>WorkChallenge</th>\n",
              "      <th>WorkRemote</th>\n",
              "      <th>WorkLoc</th>\n",
              "      <th>ImpSyn</th>\n",
              "      <th>CodeRev</th>\n",
              "      <th>CodeRevHrs</th>\n",
              "      <th>...</th>\n",
              "      <th>DatabaseWorkedWith</th>\n",
              "      <th>DatabaseDesireNextYear</th>\n",
              "      <th>PlatformWorkedWith</th>\n",
              "      <th>PlatformDesireNextYear</th>\n",
              "      <th>WebFrameWorkedWith</th>\n",
              "      <th>WebFrameDesireNextYear</th>\n",
              "      <th>MiscTechWorkedWith</th>\n",
              "      <th>MiscTechDesireNextYear</th>\n",
              "      <th>DevEnviron</th>\n",
              "      <th>OpSys</th>\n",
              "      <th>Containers</th>\n",
              "      <th>BlockchainOrg</th>\n",
              "      <th>BlockchainIs</th>\n",
              "      <th>BetterLife</th>\n",
              "      <th>ITperson</th>\n",
              "      <th>OffOn</th>\n",
              "      <th>SocialMedia</th>\n",
              "      <th>Extraversion</th>\n",
              "      <th>ScreenName</th>\n",
              "      <th>SOVisit1st</th>\n",
              "      <th>SOVisitFreq</th>\n",
              "      <th>SOVisitTo</th>\n",
              "      <th>SOFindAnswer</th>\n",
              "      <th>SOTimeSaved</th>\n",
              "      <th>SOHowMuchTime</th>\n",
              "      <th>SOAccount</th>\n",
              "      <th>SOPartFreq</th>\n",
              "      <th>SOJobs</th>\n",
              "      <th>EntTeams</th>\n",
              "      <th>SOComm</th>\n",
              "      <th>WelcomeChange</th>\n",
              "      <th>SONewContent</th>\n",
              "      <th>Age</th>\n",
              "      <th>Gender</th>\n",
              "      <th>Trans</th>\n",
              "      <th>Sexuality</th>\n",
              "      <th>Ethnicity</th>\n",
              "      <th>Dependents</th>\n",
              "      <th>SurveyLength</th>\n",
              "      <th>SurveyEase</th>\n",
              "    </tr>\n",
              "  </thead>\n",
              "  <tbody>\n",
              "    <tr>\n",
              "      <th>0</th>\n",
              "      <td>4</td>\n",
              "      <td>I am a developer by profession</td>\n",
              "      <td>No</td>\n",
              "      <td>Never</td>\n",
              "      <td>The quality of OSS and closed source software ...</td>\n",
              "      <td>Employed full-time</td>\n",
              "      <td>United States</td>\n",
              "      <td>No</td>\n",
              "      <td>Bachelor’s degree (BA, BS, B.Eng., etc.)</td>\n",
              "      <td>Computer science, computer engineering, or sof...</td>\n",
              "      <td>Taken an online course in programming or softw...</td>\n",
              "      <td>100 to 499 employees</td>\n",
              "      <td>Developer, full-stack</td>\n",
              "      <td>3</td>\n",
              "      <td>16</td>\n",
              "      <td>Less than 1 year</td>\n",
              "      <td>Very satisfied</td>\n",
              "      <td>Slightly satisfied</td>\n",
              "      <td>Very confident</td>\n",
              "      <td>No</td>\n",
              "      <td>Not sure</td>\n",
              "      <td>I am not interested in new job opportunities</td>\n",
              "      <td>Less than a year ago</td>\n",
              "      <td>Write code by hand (e.g., on a whiteboard);Int...</td>\n",
              "      <td>No</td>\n",
              "      <td>Languages, frameworks, and other technologies ...</td>\n",
              "      <td>I was preparing for a job search</td>\n",
              "      <td>USD</td>\n",
              "      <td>United States dollar</td>\n",
              "      <td>61000.0</td>\n",
              "      <td>Yearly</td>\n",
              "      <td>61000.0</td>\n",
              "      <td>80.0</td>\n",
              "      <td>There's no schedule or spec; I work on what se...</td>\n",
              "      <td>NaN</td>\n",
              "      <td>Less than once per month / Never</td>\n",
              "      <td>Home</td>\n",
              "      <td>A little below average</td>\n",
              "      <td>No</td>\n",
              "      <td>NaN</td>\n",
              "      <td>...</td>\n",
              "      <td>MySQL;SQLite</td>\n",
              "      <td>MySQL;SQLite</td>\n",
              "      <td>Linux;Windows</td>\n",
              "      <td>Linux;Windows</td>\n",
              "      <td>NaN</td>\n",
              "      <td>NaN</td>\n",
              "      <td>.NET</td>\n",
              "      <td>.NET</td>\n",
              "      <td>Eclipse;Vim;Visual Studio;Visual Studio Code</td>\n",
              "      <td>Windows</td>\n",
              "      <td>I do not use containers</td>\n",
              "      <td>Not at all</td>\n",
              "      <td>Useful for decentralized currency (i.e., Bitcoin)</td>\n",
              "      <td>Yes</td>\n",
              "      <td>SIGH</td>\n",
              "      <td>Yes</td>\n",
              "      <td>Reddit</td>\n",
              "      <td>In real life (in person)</td>\n",
              "      <td>Username</td>\n",
              "      <td>2014</td>\n",
              "      <td>Daily or almost daily</td>\n",
              "      <td>Find answers to specific questions;Pass the ti...</td>\n",
              "      <td>1-2 times per week</td>\n",
              "      <td>Stack Overflow was much faster</td>\n",
              "      <td>31-60 minutes</td>\n",
              "      <td>Yes</td>\n",
              "      <td>Less than once per month or monthly</td>\n",
              "      <td>Yes</td>\n",
              "      <td>No, and I don't know what those are</td>\n",
              "      <td>No, not really</td>\n",
              "      <td>Just as welcome now as I felt last year</td>\n",
              "      <td>Tech articles written by other developers;Indu...</td>\n",
              "      <td>22.0</td>\n",
              "      <td>Man</td>\n",
              "      <td>No</td>\n",
              "      <td>Straight / Heterosexual</td>\n",
              "      <td>White or of European descent</td>\n",
              "      <td>No</td>\n",
              "      <td>Appropriate in length</td>\n",
              "      <td>Easy</td>\n",
              "    </tr>\n",
              "    <tr>\n",
              "      <th>1</th>\n",
              "      <td>9</td>\n",
              "      <td>I am a developer by profession</td>\n",
              "      <td>Yes</td>\n",
              "      <td>Once a month or more often</td>\n",
              "      <td>The quality of OSS and closed source software ...</td>\n",
              "      <td>Employed full-time</td>\n",
              "      <td>New Zealand</td>\n",
              "      <td>No</td>\n",
              "      <td>Some college/university study without earning ...</td>\n",
              "      <td>Computer science, computer engineering, or sof...</td>\n",
              "      <td>Taken an online course in programming or softw...</td>\n",
              "      <td>10 to 19 employees</td>\n",
              "      <td>Database administrator;Developer, back-end;Dev...</td>\n",
              "      <td>12</td>\n",
              "      <td>11</td>\n",
              "      <td>4</td>\n",
              "      <td>Slightly satisfied</td>\n",
              "      <td>Slightly satisfied</td>\n",
              "      <td>Somewhat confident</td>\n",
              "      <td>No</td>\n",
              "      <td>Not sure</td>\n",
              "      <td>I’m not actively looking, but I am open to new...</td>\n",
              "      <td>Less than a year ago</td>\n",
              "      <td>Write any code;Interview with people in peer r...</td>\n",
              "      <td>Yes</td>\n",
              "      <td>Financial performance or funding status of the...</td>\n",
              "      <td>I was preparing for a job search</td>\n",
              "      <td>NZD</td>\n",
              "      <td>New Zealand dollar</td>\n",
              "      <td>138000.0</td>\n",
              "      <td>Yearly</td>\n",
              "      <td>95179.0</td>\n",
              "      <td>32.0</td>\n",
              "      <td>There is a schedule and/or spec (made by me or...</td>\n",
              "      <td>Being tasked with non-development work;Inadequ...</td>\n",
              "      <td>Less than once per month / Never</td>\n",
              "      <td>Office</td>\n",
              "      <td>A little above average</td>\n",
              "      <td>Yes, because I see value in code review</td>\n",
              "      <td>12.0</td>\n",
              "      <td>...</td>\n",
              "      <td>DynamoDB;PostgreSQL;SQLite</td>\n",
              "      <td>PostgreSQL;Redis;SQLite</td>\n",
              "      <td>AWS;Docker;Heroku;Linux;MacOS;Slack</td>\n",
              "      <td>AWS;Docker;Heroku;Linux;MacOS;Slack;Other(s):</td>\n",
              "      <td>Express;Ruby on Rails;Other(s):</td>\n",
              "      <td>Express;Ruby on Rails;Other(s):</td>\n",
              "      <td>Node.js;Unity 3D</td>\n",
              "      <td>Node.js</td>\n",
              "      <td>Vim</td>\n",
              "      <td>MacOS</td>\n",
              "      <td>Development;Testing;Production</td>\n",
              "      <td>Not at all</td>\n",
              "      <td>An irresponsible use of resources</td>\n",
              "      <td>No</td>\n",
              "      <td>SIGH</td>\n",
              "      <td>Yes</td>\n",
              "      <td>Twitter</td>\n",
              "      <td>In real life (in person)</td>\n",
              "      <td>Username</td>\n",
              "      <td>2013</td>\n",
              "      <td>Daily or almost daily</td>\n",
              "      <td>Find answers to specific questions;Contribute ...</td>\n",
              "      <td>3-5 times per week</td>\n",
              "      <td>They were about the same</td>\n",
              "      <td>NaN</td>\n",
              "      <td>Yes</td>\n",
              "      <td>Less than once per month or monthly</td>\n",
              "      <td>No, I knew that Stack Overflow had a job board...</td>\n",
              "      <td>No, and I don't know what those are</td>\n",
              "      <td>Yes, somewhat</td>\n",
              "      <td>Just as welcome now as I felt last year</td>\n",
              "      <td>NaN</td>\n",
              "      <td>23.0</td>\n",
              "      <td>Man</td>\n",
              "      <td>No</td>\n",
              "      <td>Bisexual</td>\n",
              "      <td>White or of European descent</td>\n",
              "      <td>No</td>\n",
              "      <td>Appropriate in length</td>\n",
              "      <td>Neither easy nor difficult</td>\n",
              "    </tr>\n",
              "    <tr>\n",
              "      <th>2</th>\n",
              "      <td>13</td>\n",
              "      <td>I am a developer by profession</td>\n",
              "      <td>Yes</td>\n",
              "      <td>Less than once a month but more than once per ...</td>\n",
              "      <td>OSS is, on average, of HIGHER quality than pro...</td>\n",
              "      <td>Employed full-time</td>\n",
              "      <td>United States</td>\n",
              "      <td>No</td>\n",
              "      <td>Master’s degree (MA, MS, M.Eng., MBA, etc.)</td>\n",
              "      <td>Computer science, computer engineering, or sof...</td>\n",
              "      <td>Taken an online course in programming or softw...</td>\n",
              "      <td>10 to 19 employees</td>\n",
              "      <td>Data or business analyst;Database administrato...</td>\n",
              "      <td>17</td>\n",
              "      <td>11</td>\n",
              "      <td>8</td>\n",
              "      <td>Very satisfied</td>\n",
              "      <td>Very satisfied</td>\n",
              "      <td>NaN</td>\n",
              "      <td>NaN</td>\n",
              "      <td>NaN</td>\n",
              "      <td>I am not interested in new job opportunities</td>\n",
              "      <td>3-4 years ago</td>\n",
              "      <td>Complete a take-home project;Interview with pe...</td>\n",
              "      <td>Yes</td>\n",
              "      <td>Languages, frameworks, and other technologies ...</td>\n",
              "      <td>I was preparing for a job search</td>\n",
              "      <td>USD</td>\n",
              "      <td>United States dollar</td>\n",
              "      <td>90000.0</td>\n",
              "      <td>Yearly</td>\n",
              "      <td>90000.0</td>\n",
              "      <td>40.0</td>\n",
              "      <td>There is a schedule and/or spec (made by me or...</td>\n",
              "      <td>Meetings;Non-work commitments (parenting, scho...</td>\n",
              "      <td>All or almost all the time (I'm full-time remote)</td>\n",
              "      <td>Home</td>\n",
              "      <td>A little above average</td>\n",
              "      <td>Yes, because I see value in code review</td>\n",
              "      <td>5.0</td>\n",
              "      <td>...</td>\n",
              "      <td>Couchbase;DynamoDB;Firebase;MySQL</td>\n",
              "      <td>Firebase;MySQL;Redis</td>\n",
              "      <td>Android;AWS;Docker;IBM Cloud or Watson;iOS;Lin...</td>\n",
              "      <td>Android;AWS;Docker;IBM Cloud or Watson;Linux;S...</td>\n",
              "      <td>Angular/Angular.js;ASP.NET;Express;jQuery;Vue.js</td>\n",
              "      <td>Express;Vue.js</td>\n",
              "      <td>Node.js;Xamarin</td>\n",
              "      <td>Node.js;TensorFlow</td>\n",
              "      <td>Vim;Visual Studio;Visual Studio Code;Xcode</td>\n",
              "      <td>Windows</td>\n",
              "      <td>Development;Testing;Production</td>\n",
              "      <td>Not at all</td>\n",
              "      <td>Useful for decentralized currency (i.e., Bitcoin)</td>\n",
              "      <td>Yes</td>\n",
              "      <td>Yes</td>\n",
              "      <td>Yes</td>\n",
              "      <td>Twitter</td>\n",
              "      <td>In real life (in person)</td>\n",
              "      <td>Username</td>\n",
              "      <td>2011</td>\n",
              "      <td>Multiple times per day</td>\n",
              "      <td>Find answers to specific questions</td>\n",
              "      <td>More than 10 times per week</td>\n",
              "      <td>Stack Overflow was much faster</td>\n",
              "      <td>11-30 minutes</td>\n",
              "      <td>Yes</td>\n",
              "      <td>Less than once per month or monthly</td>\n",
              "      <td>Yes</td>\n",
              "      <td>No, I've heard of them, but I am not part of a...</td>\n",
              "      <td>Neutral</td>\n",
              "      <td>Somewhat more welcome now than last year</td>\n",
              "      <td>Tech articles written by other developers;Cour...</td>\n",
              "      <td>28.0</td>\n",
              "      <td>Man</td>\n",
              "      <td>No</td>\n",
              "      <td>Straight / Heterosexual</td>\n",
              "      <td>White or of European descent</td>\n",
              "      <td>Yes</td>\n",
              "      <td>Appropriate in length</td>\n",
              "      <td>Easy</td>\n",
              "    </tr>\n",
              "    <tr>\n",
              "      <th>4</th>\n",
              "      <td>17</td>\n",
              "      <td>I am a developer by profession</td>\n",
              "      <td>Yes</td>\n",
              "      <td>Less than once a month but more than once per ...</td>\n",
              "      <td>The quality of OSS and closed source software ...</td>\n",
              "      <td>Employed full-time</td>\n",
              "      <td>Australia</td>\n",
              "      <td>No</td>\n",
              "      <td>Bachelor’s degree (BA, BS, B.Eng., etc.)</td>\n",
              "      <td>Computer science, computer engineering, or sof...</td>\n",
              "      <td>Taken an online course in programming or softw...</td>\n",
              "      <td>20 to 99 employees</td>\n",
              "      <td>Developer, back-end;Developer, front-end;Devel...</td>\n",
              "      <td>5</td>\n",
              "      <td>18</td>\n",
              "      <td>2</td>\n",
              "      <td>Slightly satisfied</td>\n",
              "      <td>Neither satisfied nor dissatisfied</td>\n",
              "      <td>Somewhat confident</td>\n",
              "      <td>No</td>\n",
              "      <td>No</td>\n",
              "      <td>I am actively looking for a job</td>\n",
              "      <td>Less than a year ago</td>\n",
              "      <td>Complete a take-home project;Interview with pe...</td>\n",
              "      <td>No</td>\n",
              "      <td>Languages, frameworks, and other technologies ...</td>\n",
              "      <td>I was preparing for a job search</td>\n",
              "      <td>AUD</td>\n",
              "      <td>Australian dollar</td>\n",
              "      <td>90000.0</td>\n",
              "      <td>Yearly</td>\n",
              "      <td>65277.0</td>\n",
              "      <td>45.0</td>\n",
              "      <td>There's no schedule or spec; I work on what se...</td>\n",
              "      <td>Distracting work environment;Meetings;Time spe...</td>\n",
              "      <td>A few days each month</td>\n",
              "      <td>Other place, such as a coworking space or cafe</td>\n",
              "      <td>A little above average</td>\n",
              "      <td>Yes, because I see value in code review</td>\n",
              "      <td>5.0</td>\n",
              "      <td>...</td>\n",
              "      <td>MongoDB;PostgreSQL</td>\n",
              "      <td>Elasticsearch;Firebase;MongoDB;PostgreSQL</td>\n",
              "      <td>Arduino;Docker;Heroku;Raspberry Pi;WordPress</td>\n",
              "      <td>Docker</td>\n",
              "      <td>Angular/Angular.js;Express;Spring</td>\n",
              "      <td>Angular/Angular.js;Express;React.js;Spring;Vue.js</td>\n",
              "      <td>Node.js</td>\n",
              "      <td>Node.js;React Native</td>\n",
              "      <td>IntelliJ;Visual Studio Code</td>\n",
              "      <td>Linux-based</td>\n",
              "      <td>Development;Testing;Production;Outside of work...</td>\n",
              "      <td>Not at all</td>\n",
              "      <td>A passing fad</td>\n",
              "      <td>Yes</td>\n",
              "      <td>Fortunately, someone else has that title</td>\n",
              "      <td>What?</td>\n",
              "      <td>YouTube</td>\n",
              "      <td>In real life (in person)</td>\n",
              "      <td>NaN</td>\n",
              "      <td>2014</td>\n",
              "      <td>Daily or almost daily</td>\n",
              "      <td>Find answers to specific questions;Learn how t...</td>\n",
              "      <td>6-10 times per week</td>\n",
              "      <td>Stack Overflow was slightly faster</td>\n",
              "      <td>0-10 minutes</td>\n",
              "      <td>Yes</td>\n",
              "      <td>A few times per week</td>\n",
              "      <td>No, I didn't know that Stack Overflow had a jo...</td>\n",
              "      <td>No, I've heard of them, but I am not part of a...</td>\n",
              "      <td>Yes, somewhat</td>\n",
              "      <td>Just as welcome now as I felt last year</td>\n",
              "      <td>Tech articles written by other developers;Indu...</td>\n",
              "      <td>29.0</td>\n",
              "      <td>Man</td>\n",
              "      <td>No</td>\n",
              "      <td>Straight / Heterosexual</td>\n",
              "      <td>Hispanic or Latino/Latina;Multiracial</td>\n",
              "      <td>No</td>\n",
              "      <td>Appropriate in length</td>\n",
              "      <td>Easy</td>\n",
              "    </tr>\n",
              "    <tr>\n",
              "      <th>5</th>\n",
              "      <td>19</td>\n",
              "      <td>I am a developer by profession</td>\n",
              "      <td>Yes</td>\n",
              "      <td>Never</td>\n",
              "      <td>The quality of OSS and closed source software ...</td>\n",
              "      <td>Employed full-time</td>\n",
              "      <td>Brazil</td>\n",
              "      <td>No</td>\n",
              "      <td>Some college/university study without earning ...</td>\n",
              "      <td>Computer science, computer engineering, or sof...</td>\n",
              "      <td>Received on-the-job training in software devel...</td>\n",
              "      <td>100 to 499 employees</td>\n",
              "      <td>Developer, full-stack</td>\n",
              "      <td>14</td>\n",
              "      <td>13</td>\n",
              "      <td>13</td>\n",
              "      <td>Very dissatisfied</td>\n",
              "      <td>Very satisfied</td>\n",
              "      <td>Very confident</td>\n",
              "      <td>No</td>\n",
              "      <td>No</td>\n",
              "      <td>I’m not actively looking, but I am open to new...</td>\n",
              "      <td>Less than a year ago</td>\n",
              "      <td>Interview with people in senior / management r...</td>\n",
              "      <td>No</td>\n",
              "      <td>Languages, frameworks, and other technologies ...</td>\n",
              "      <td>My job status changed (promotion, new job, etc.)</td>\n",
              "      <td>BRL</td>\n",
              "      <td>Brazilian real</td>\n",
              "      <td>9500.0</td>\n",
              "      <td>Monthly</td>\n",
              "      <td>31140.0</td>\n",
              "      <td>8.0</td>\n",
              "      <td>There is a schedule and/or spec (made by me or...</td>\n",
              "      <td>Distracting work environment;Meetings;Time spe...</td>\n",
              "      <td>A few days each month</td>\n",
              "      <td>Office</td>\n",
              "      <td>Far above average</td>\n",
              "      <td>Yes, because I see value in code review</td>\n",
              "      <td>3.0</td>\n",
              "      <td>...</td>\n",
              "      <td>DynamoDB;Firebase;Microsoft SQL Server;MySQL;S...</td>\n",
              "      <td>DynamoDB</td>\n",
              "      <td>Android;AWS;Microsoft Azure</td>\n",
              "      <td>AWS</td>\n",
              "      <td>Angular/Angular.js;ASP.NET;Express;jQuery;Reac...</td>\n",
              "      <td>Express;React.js</td>\n",
              "      <td>.NET;.NET Core;Node.js</td>\n",
              "      <td>Node.js</td>\n",
              "      <td>Vim;Visual Studio Code</td>\n",
              "      <td>MacOS</td>\n",
              "      <td>Development;Testing;Production</td>\n",
              "      <td>Not at all</td>\n",
              "      <td>NaN</td>\n",
              "      <td>No</td>\n",
              "      <td>SIGH</td>\n",
              "      <td>Yes</td>\n",
              "      <td>WhatsApp</td>\n",
              "      <td>In real life (in person)</td>\n",
              "      <td>Username</td>\n",
              "      <td>2008</td>\n",
              "      <td>Daily or almost daily</td>\n",
              "      <td>Find answers to specific questions;Learn how t...</td>\n",
              "      <td>More than 10 times per week</td>\n",
              "      <td>Stack Overflow was much faster</td>\n",
              "      <td>60+ minutes</td>\n",
              "      <td>Yes</td>\n",
              "      <td>I have never participated in Q&amp;A on Stack Over...</td>\n",
              "      <td>No, I knew that Stack Overflow had a job board...</td>\n",
              "      <td>No, I've heard of them, but I am not part of a...</td>\n",
              "      <td>Neutral</td>\n",
              "      <td>Just as welcome now as I felt last year</td>\n",
              "      <td>Tech articles written by other developers;Indu...</td>\n",
              "      <td>31.0</td>\n",
              "      <td>Man</td>\n",
              "      <td>No</td>\n",
              "      <td>Straight / Heterosexual</td>\n",
              "      <td>Hispanic or Latino/Latina</td>\n",
              "      <td>Yes</td>\n",
              "      <td>Too long</td>\n",
              "      <td>Easy</td>\n",
              "    </tr>\n",
              "  </tbody>\n",
              "</table>\n",
              "<p>5 rows × 85 columns</p>\n",
              "</div>"
            ],
            "text/plain": [
              "   Respondent  ...                  SurveyEase\n",
              "0           4  ...                        Easy\n",
              "1           9  ...  Neither easy nor difficult\n",
              "2          13  ...                        Easy\n",
              "4          17  ...                        Easy\n",
              "5          19  ...                        Easy\n",
              "\n",
              "[5 rows x 85 columns]"
            ]
          },
          "metadata": {
            "tags": []
          },
          "execution_count": 314
        }
      ]
    },
    {
      "cell_type": "markdown",
      "metadata": {
        "id": "uWHVC053bbnG"
      },
      "source": [
        "## Correlation\n"
      ]
    },
    {
      "cell_type": "markdown",
      "metadata": {
        "id": "mCDu8_PVbbnH"
      },
      "source": [
        "### Finding correlation\n"
      ]
    },
    {
      "cell_type": "markdown",
      "metadata": {
        "id": "KgWz0JX7bbnH"
      },
      "source": [
        "Find the correlation between `Age` and all other numerical columns.\n"
      ]
    },
    {
      "cell_type": "code",
      "metadata": {
        "id": "xoKu7qzdrtgC"
      },
      "source": [
        "other = df_clean[['Age','Respondent', 'MainBranch', 'Hobbyist', 'OpenSourcer', 'OpenSource', 'Employment', 'Country', 'Student', 'EdLevel', 'UndergradMajor',\n",
        "       'EduOther', 'OrgSize', 'DevType', 'YearsCode', 'Age1stCode', 'YearsCodePro', 'CareerSat', 'JobSat', 'MgrIdiot', 'MgrMoney',\n",
        "       'MgrWant', 'JobSeek', 'LastHireDate', 'LastInt', 'FizzBuzz',  'JobFactors', 'ResumeUpdate', 'CurrencySymbol', 'CurrencyDesc',\n",
        "       'CompTotal', 'CompFreq', 'ConvertedComp', 'WorkWeekHrs', 'WorkPlan',\n",
        "       'WorkChallenge', 'WorkRemote', 'WorkLoc', 'ImpSyn', 'CodeRev',\n",
        "       'CodeRevHrs', 'UnitTests', 'PurchaseHow', 'PurchaseWhat',\n",
        "       'LanguageWorkedWith', 'LanguageDesireNextYear', 'DatabaseWorkedWith',\n",
        "       'DatabaseDesireNextYear', 'PlatformWorkedWith',\n",
        "       'PlatformDesireNextYear', 'WebFrameWorkedWith',\n",
        "       'WebFrameDesireNextYear', 'MiscTechWorkedWith',\n",
        "       'MiscTechDesireNextYear', 'DevEnviron', 'OpSys', 'Containers',\n",
        "       'BlockchainOrg', 'BlockchainIs', 'BetterLife', 'ITperson', 'OffOn',\n",
        "       'SocialMedia', 'Extraversion', 'ScreenName', 'SOVisit1st',\n",
        "       'SOVisitFreq', 'SOVisitTo', 'SOFindAnswer', 'SOTimeSaved',\n",
        "       'SOHowMuchTime', 'SOAccount', 'SOPartFreq', 'SOJobs', 'EntTeams',\n",
        "       'SOComm', 'WelcomeChange', 'SONewContent', 'Gender', 'Trans',\n",
        "       'Sexuality', 'Ethnicity', 'Dependents', 'SurveyLength', 'SurveyEase']]"
      ],
      "execution_count": null,
      "outputs": []
    },
    {
      "cell_type": "code",
      "metadata": {
        "colab": {
          "base_uri": "https://localhost:8080/",
          "height": 235
        },
        "id": "i2buesN6bbnH",
        "outputId": "04467fe0-102b-4c02-82b1-d89a8da7ada7"
      },
      "source": [
        "# your code goes here\n",
        "other.corr(method='pearson')"
      ],
      "execution_count": null,
      "outputs": [
        {
          "output_type": "execute_result",
          "data": {
            "text/html": [
              "<div>\n",
              "<style scoped>\n",
              "    .dataframe tbody tr th:only-of-type {\n",
              "        vertical-align: middle;\n",
              "    }\n",
              "\n",
              "    .dataframe tbody tr th {\n",
              "        vertical-align: top;\n",
              "    }\n",
              "\n",
              "    .dataframe thead th {\n",
              "        text-align: right;\n",
              "    }\n",
              "</style>\n",
              "<table border=\"1\" class=\"dataframe\">\n",
              "  <thead>\n",
              "    <tr style=\"text-align: right;\">\n",
              "      <th></th>\n",
              "      <th>Age</th>\n",
              "      <th>Respondent</th>\n",
              "      <th>CompTotal</th>\n",
              "      <th>ConvertedComp</th>\n",
              "      <th>WorkWeekHrs</th>\n",
              "      <th>CodeRevHrs</th>\n",
              "    </tr>\n",
              "  </thead>\n",
              "  <tbody>\n",
              "    <tr>\n",
              "      <th>Age</th>\n",
              "      <td>1.000000</td>\n",
              "      <td>0.002180</td>\n",
              "      <td>0.006337</td>\n",
              "      <td>0.401821</td>\n",
              "      <td>0.032032</td>\n",
              "      <td>-0.012878</td>\n",
              "    </tr>\n",
              "    <tr>\n",
              "      <th>Respondent</th>\n",
              "      <td>0.002180</td>\n",
              "      <td>1.000000</td>\n",
              "      <td>-0.019354</td>\n",
              "      <td>0.010878</td>\n",
              "      <td>-0.016221</td>\n",
              "      <td>0.005293</td>\n",
              "    </tr>\n",
              "    <tr>\n",
              "      <th>CompTotal</th>\n",
              "      <td>0.006337</td>\n",
              "      <td>-0.019354</td>\n",
              "      <td>1.000000</td>\n",
              "      <td>-0.063561</td>\n",
              "      <td>0.004910</td>\n",
              "      <td>0.017007</td>\n",
              "    </tr>\n",
              "    <tr>\n",
              "      <th>ConvertedComp</th>\n",
              "      <td>0.401821</td>\n",
              "      <td>0.010878</td>\n",
              "      <td>-0.063561</td>\n",
              "      <td>1.000000</td>\n",
              "      <td>0.034351</td>\n",
              "      <td>-0.088934</td>\n",
              "    </tr>\n",
              "    <tr>\n",
              "      <th>WorkWeekHrs</th>\n",
              "      <td>0.032032</td>\n",
              "      <td>-0.016221</td>\n",
              "      <td>0.004910</td>\n",
              "      <td>0.034351</td>\n",
              "      <td>1.000000</td>\n",
              "      <td>0.038935</td>\n",
              "    </tr>\n",
              "    <tr>\n",
              "      <th>CodeRevHrs</th>\n",
              "      <td>-0.012878</td>\n",
              "      <td>0.005293</td>\n",
              "      <td>0.017007</td>\n",
              "      <td>-0.088934</td>\n",
              "      <td>0.038935</td>\n",
              "      <td>1.000000</td>\n",
              "    </tr>\n",
              "  </tbody>\n",
              "</table>\n",
              "</div>"
            ],
            "text/plain": [
              "                    Age  Respondent  ...  WorkWeekHrs  CodeRevHrs\n",
              "Age            1.000000    0.002180  ...     0.032032   -0.012878\n",
              "Respondent     0.002180    1.000000  ...    -0.016221    0.005293\n",
              "CompTotal      0.006337   -0.019354  ...     0.004910    0.017007\n",
              "ConvertedComp  0.401821    0.010878  ...     0.034351   -0.088934\n",
              "WorkWeekHrs    0.032032   -0.016221  ...     1.000000    0.038935\n",
              "CodeRevHrs    -0.012878    0.005293  ...     0.038935    1.000000\n",
              "\n",
              "[6 rows x 6 columns]"
            ]
          },
          "metadata": {
            "tags": []
          },
          "execution_count": 316
        }
      ]
    },
    {
      "cell_type": "markdown",
      "metadata": {
        "id": "Pct02Xv4bbnI"
      },
      "source": [
        "## Authors\n"
      ]
    },
    {
      "cell_type": "markdown",
      "metadata": {
        "id": "W6fHh_YEbbnI"
      },
      "source": [
        "Ramesh Sannareddy\n"
      ]
    },
    {
      "cell_type": "markdown",
      "metadata": {
        "id": "5SVM_bFtbbnI"
      },
      "source": [
        "### Other Contributors\n"
      ]
    },
    {
      "cell_type": "markdown",
      "metadata": {
        "id": "8OcHnZhcbbnJ"
      },
      "source": [
        "Rav Ahuja\n"
      ]
    },
    {
      "cell_type": "markdown",
      "metadata": {
        "id": "YoGA2tt_bbnJ"
      },
      "source": [
        "## Change Log\n"
      ]
    },
    {
      "cell_type": "markdown",
      "metadata": {
        "id": "V5K3suqvbbnJ"
      },
      "source": [
        "| Date (YYYY-MM-DD) | Version | Changed By        | Change Description                 |\n",
        "| ----------------- | ------- | ----------------- | ---------------------------------- |\n",
        "| 2020-10-17        | 0.1     | Ramesh Sannareddy | Created initial version of the lab |\n"
      ]
    },
    {
      "cell_type": "markdown",
      "metadata": {
        "id": "6DbKxUzCbbnK"
      },
      "source": [
        " Copyright © 2020 IBM Corporation. This notebook and its source code are released under the terms of the [MIT License](https://cognitiveclass.ai/mit-license?cm_mmc=Email_Newsletter-_-Developer_Ed%2BTech-_-WW_WW-_-SkillsNetwork-Courses-IBM-DA0321EN-SkillsNetwork-21426264&cm_mmca1=000026UJ&cm_mmca2=10006555&cm_mmca3=M12345678&cvosrc=email.Newsletter.M12345678&cvo_campaign=000026UJ&cm_mmc=Email_Newsletter-_-Developer_Ed%2BTech-_-WW_WW-_-SkillsNetwork-Courses-IBM-DA0321EN-SkillsNetwork-21426264&cm_mmca1=000026UJ&cm_mmca2=10006555&cm_mmca3=M12345678&cvosrc=email.Newsletter.M12345678&cvo_campaign=000026UJ&cm_mmc=Email_Newsletter-_-Developer_Ed%2BTech-_-WW_WW-_-SkillsNetwork-Courses-IBM-DA0321EN-SkillsNetwork-21426264&cm_mmca1=000026UJ&cm_mmca2=10006555&cm_mmca3=M12345678&cvosrc=email.Newsletter.M12345678&cvo_campaign=000026UJ&cm_mmc=Email_Newsletter-_-Developer_Ed%2BTech-_-WW_WW-_-SkillsNetwork-Courses-IBM-DA0321EN-SkillsNetwork-21426264&cm_mmca1=000026UJ&cm_mmca2=10006555&cm_mmca3=M12345678&cvosrc=email.Newsletter.M12345678&cvo_campaign=000026UJ&cm_mmc=Email_Newsletter-_-Developer_Ed%2BTech-_-WW_WW-_-SkillsNetwork-Courses-IBM-DA0321EN-SkillsNetwork-21426264&cm_mmca1=000026UJ&cm_mmca2=10006555&cm_mmca3=M12345678&cvosrc=email.Newsletter.M12345678&cvo_campaign=000026UJ&cm_mmc=Email_Newsletter-_-Developer_Ed%2BTech-_-WW_WW-_-SkillsNetwork-Courses-IBM-DA0321EN-SkillsNetwork-21426264&cm_mmca1=000026UJ&cm_mmca2=10006555&cm_mmca3=M12345678&cvosrc=email.Newsletter.M12345678&cvo_campaign=000026UJ).\n"
      ]
    }
  ]
}