{
  "nbformat": 4,
  "nbformat_minor": 0,
  "metadata": {
    "kernelspec": {
      "display_name": "Python 3",
      "language": "python",
      "name": "python3"
    },
    "language_info": {
      "codemirror_mode": {
        "name": "ipython",
        "version": 3
      },
      "file_extension": ".py",
      "mimetype": "text/x-python",
      "name": "python",
      "nbconvert_exporter": "python",
      "pygments_lexer": "ipython3",
      "version": "3.7.6"
    },
    "colab": {
      "name": "EDA-Data Distribution.ipynb",
      "provenance": [],
      "collapsed_sections": [],
      "include_colab_link": true
    }
  },
  "cells": [
    {
      "cell_type": "markdown",
      "metadata": {
        "id": "view-in-github",
        "colab_type": "text"
      },
      "source": [
        "<a href=\"https://colab.research.google.com/github/eddychetz/Data-Analytics-and-Visualization-Capstone-Project-with-Python/blob/main/EDA_Data_Distribution.ipynb\" target=\"_parent\"><img src=\"https://colab.research.google.com/assets/colab-badge.svg\" alt=\"Open In Colab\"/></a>"
      ]
    },
    {
      "cell_type": "markdown",
      "metadata": {
        "id": "N4p39Jwp6B1-"
      },
      "source": [
        "<center>\n",
        "    <img src=\"https://gitlab.com/ibm/skills-network/courses/placeholder101/-/raw/master/labs/module%201/images/IDSNlogo.png\" width=\"300\" alt=\"cognitiveclass.ai logo\"  />\n",
        "</center>\n"
      ]
    },
    {
      "cell_type": "markdown",
      "metadata": {
        "id": "sQOk-QfR6B2T"
      },
      "source": [
        "# **Exploratory Data Analysis Lab: Finding How The Data Is Distributed**\n"
      ]
    },
    {
      "cell_type": "markdown",
      "metadata": {
        "id": "5PdPEWaM6B2U"
      },
      "source": [
        "Estimated time needed: **30** minutes\n"
      ]
    },
    {
      "cell_type": "markdown",
      "metadata": {
        "id": "6xFEgnAB6B2V"
      },
      "source": [
        "In this module you get to work with the cleaned dataset from the previous module.\n",
        "\n",
        "In this assignment you will perform the task of exploratory data analysis.\n",
        "You will find out the distribution of data, presence of outliers and also determine the correlation between different columns in the dataset.\n"
      ]
    },
    {
      "cell_type": "markdown",
      "metadata": {
        "id": "YTcf7ZoQ6B2V"
      },
      "source": [
        "## Objectives\n"
      ]
    },
    {
      "cell_type": "markdown",
      "metadata": {
        "id": "ZGPrh1666B2W"
      },
      "source": [
        "In this lab you will perform the following:\n"
      ]
    },
    {
      "cell_type": "markdown",
      "metadata": {
        "id": "4AncrO366B2X"
      },
      "source": [
        "-   Identify the distribution of data in the dataset.\n",
        "\n",
        "-   Identify outliers in the dataset.\n",
        "\n",
        "-   Remove outliers from the dataset.\n",
        "\n",
        "-   Identify correlation between features in the dataset.\n"
      ]
    },
    {
      "cell_type": "markdown",
      "metadata": {
        "id": "2qdJoDcJ6B2Y"
      },
      "source": [
        "* * *\n"
      ]
    },
    {
      "cell_type": "markdown",
      "metadata": {
        "id": "h1DDsswT6B2Y"
      },
      "source": [
        "## Hands on Lab\n"
      ]
    },
    {
      "cell_type": "markdown",
      "metadata": {
        "id": "u4tMqF3m6B2Z"
      },
      "source": [
        "Import the pandas module.\n"
      ]
    },
    {
      "cell_type": "code",
      "metadata": {
        "id": "Szgb0CuV6B2a"
      },
      "source": [
        "import pandas as pd\n",
        "pd.options.mode.chained_assignment = None  # default='warn'\n",
        "import warnings\n",
        "warnings.simplefilter(action='ignore', category=FutureWarning)"
      ],
      "execution_count": null,
      "outputs": []
    },
    {
      "cell_type": "markdown",
      "metadata": {
        "id": "_PMnpQ2F6B2b"
      },
      "source": [
        "Load the dataset into a dataframe.\n"
      ]
    },
    {
      "cell_type": "code",
      "metadata": {
        "colab": {
          "base_uri": "https://localhost:8080/",
          "height": 666
        },
        "id": "3cJRjPIE6B2b",
        "outputId": "ac2f61a4-859b-41dc-9ea7-394aae6b9a77"
      },
      "source": [
        "df = pd.read_csv(\"https://cf-courses-data.s3.us.cloud-object-storage.appdomain.cloud/IBM-DA0321EN-SkillsNetwork/labs/Capstone_edX/Module%203/Survey_data.csv\")\n",
        "df.head()"
      ],
      "execution_count": null,
      "outputs": [
        {
          "output_type": "execute_result",
          "data": {
            "text/html": [
              "<div>\n",
              "<style scoped>\n",
              "    .dataframe tbody tr th:only-of-type {\n",
              "        vertical-align: middle;\n",
              "    }\n",
              "\n",
              "    .dataframe tbody tr th {\n",
              "        vertical-align: top;\n",
              "    }\n",
              "\n",
              "    .dataframe thead th {\n",
              "        text-align: right;\n",
              "    }\n",
              "</style>\n",
              "<table border=\"1\" class=\"dataframe\">\n",
              "  <thead>\n",
              "    <tr style=\"text-align: right;\">\n",
              "      <th></th>\n",
              "      <th>Unnamed: 0</th>\n",
              "      <th>Respondent</th>\n",
              "      <th>MainBranch</th>\n",
              "      <th>Hobbyist</th>\n",
              "      <th>Age</th>\n",
              "      <th>Age1stCode</th>\n",
              "      <th>CompFreq</th>\n",
              "      <th>CompTotal</th>\n",
              "      <th>ConvertedComp</th>\n",
              "      <th>Country</th>\n",
              "      <th>CurrencyDesc</th>\n",
              "      <th>CurrencySymbol</th>\n",
              "      <th>DatabaseDesireNextYear</th>\n",
              "      <th>DatabaseWorkedWith</th>\n",
              "      <th>DevType</th>\n",
              "      <th>EdLevel</th>\n",
              "      <th>Employment</th>\n",
              "      <th>Ethnicity</th>\n",
              "      <th>Gender</th>\n",
              "      <th>JobFactors</th>\n",
              "      <th>JobSat</th>\n",
              "      <th>JobSeek</th>\n",
              "      <th>LanguageDesireNextYear</th>\n",
              "      <th>LanguageWorkedWith</th>\n",
              "      <th>MiscTechDesireNextYear</th>\n",
              "      <th>MiscTechWorkedWith</th>\n",
              "      <th>NEWCollabToolsDesireNextYear</th>\n",
              "      <th>NEWCollabToolsWorkedWith</th>\n",
              "      <th>NEWDevOps</th>\n",
              "      <th>NEWDevOpsImpt</th>\n",
              "      <th>NEWEdImpt</th>\n",
              "      <th>NEWJobHunt</th>\n",
              "      <th>NEWJobHuntResearch</th>\n",
              "      <th>NEWLearn</th>\n",
              "      <th>NEWOffTopic</th>\n",
              "      <th>NEWOnboardGood</th>\n",
              "      <th>NEWOtherComms</th>\n",
              "      <th>NEWOvertime</th>\n",
              "      <th>NEWPurchaseResearch</th>\n",
              "      <th>NEWPurpleLink</th>\n",
              "      <th>NEWSOSites</th>\n",
              "      <th>NEWStuck</th>\n",
              "      <th>OpSys</th>\n",
              "      <th>OrgSize</th>\n",
              "      <th>PlatformDesireNextYear</th>\n",
              "      <th>PlatformWorkedWith</th>\n",
              "      <th>PurchaseWhat</th>\n",
              "      <th>Sexuality</th>\n",
              "      <th>SOAccount</th>\n",
              "      <th>SOComm</th>\n",
              "      <th>SOPartFreq</th>\n",
              "      <th>SOVisitFreq</th>\n",
              "      <th>SurveyEase</th>\n",
              "      <th>SurveyLength</th>\n",
              "      <th>Trans</th>\n",
              "      <th>UndergradMajor</th>\n",
              "      <th>WebframeDesireNextYear</th>\n",
              "      <th>WebframeWorkedWith</th>\n",
              "      <th>WelcomeChange</th>\n",
              "      <th>WorkWeekHrs</th>\n",
              "      <th>YearsCode</th>\n",
              "      <th>YearsCodePro</th>\n",
              "      <th>NormalizedAnnualCompensation</th>\n",
              "    </tr>\n",
              "  </thead>\n",
              "  <tbody>\n",
              "    <tr>\n",
              "      <th>0</th>\n",
              "      <td>9</td>\n",
              "      <td>10</td>\n",
              "      <td>I am a developer by profession</td>\n",
              "      <td>Yes</td>\n",
              "      <td>22.0</td>\n",
              "      <td>14</td>\n",
              "      <td>Yearly</td>\n",
              "      <td>25000.0</td>\n",
              "      <td>32315.0</td>\n",
              "      <td>United Kingdom</td>\n",
              "      <td>Pound sterling</td>\n",
              "      <td>GBP</td>\n",
              "      <td>Microsoft SQL Server</td>\n",
              "      <td>Microsoft SQL Server</td>\n",
              "      <td>Database administrator;Developer, full-stack;D...</td>\n",
              "      <td>Master’s degree (M.A., M.S., M.Eng., MBA, etc.)</td>\n",
              "      <td>Employed full-time</td>\n",
              "      <td>White or of European descent</td>\n",
              "      <td>Man</td>\n",
              "      <td>Flex time or a flexible schedule;How widely us...</td>\n",
              "      <td>Very satisfied</td>\n",
              "      <td>I’m not actively looking, but I am open to new...</td>\n",
              "      <td>HTML/CSS;Java;JavaScript;Python;R;SQL</td>\n",
              "      <td>HTML/CSS;Java;JavaScript;Python;SQL</td>\n",
              "      <td>Pandas;TensorFlow</td>\n",
              "      <td>Pandas</td>\n",
              "      <td>Github;Microsoft Teams</td>\n",
              "      <td>Github;Microsoft Teams</td>\n",
              "      <td>No</td>\n",
              "      <td>Neutral</td>\n",
              "      <td>Fairly important</td>\n",
              "      <td>Curious about other opportunities;Better compe...</td>\n",
              "      <td>Company reviews from third party sites (e.g. G...</td>\n",
              "      <td>Every few months</td>\n",
              "      <td>Yes</td>\n",
              "      <td>Onboarding? What onboarding?</td>\n",
              "      <td>No</td>\n",
              "      <td>Often: 1-2 days per week or more</td>\n",
              "      <td>Start a free trial;Ask developers I know/work ...</td>\n",
              "      <td>Hello, old friend</td>\n",
              "      <td>Stack Overflow (public Q&amp;A for anyone who code...</td>\n",
              "      <td>Visit Stack Overflow</td>\n",
              "      <td>Windows</td>\n",
              "      <td>2 to 9 employees</td>\n",
              "      <td>Android;Linux;Raspberry Pi;Windows</td>\n",
              "      <td>Android;Linux;Raspberry Pi;Windows</td>\n",
              "      <td>I have a great deal of influence</td>\n",
              "      <td>Straight / Heterosexual</td>\n",
              "      <td>Yes</td>\n",
              "      <td>Yes, definitely</td>\n",
              "      <td>Multiple times per day</td>\n",
              "      <td>Multiple times per day</td>\n",
              "      <td>Easy</td>\n",
              "      <td>Appropriate in length</td>\n",
              "      <td>No</td>\n",
              "      <td>Mathematics or statistics</td>\n",
              "      <td>Flask;jQuery</td>\n",
              "      <td>Flask;jQuery</td>\n",
              "      <td>Somewhat more welcome now than last year</td>\n",
              "      <td>36.0</td>\n",
              "      <td>8</td>\n",
              "      <td>4</td>\n",
              "      <td>25000.0</td>\n",
              "    </tr>\n",
              "    <tr>\n",
              "      <th>1</th>\n",
              "      <td>32</td>\n",
              "      <td>33</td>\n",
              "      <td>I am a developer by profession</td>\n",
              "      <td>Yes</td>\n",
              "      <td>39.0</td>\n",
              "      <td>14</td>\n",
              "      <td>Monthly</td>\n",
              "      <td>4900.0</td>\n",
              "      <td>63564.0</td>\n",
              "      <td>Belgium</td>\n",
              "      <td>European Euro</td>\n",
              "      <td>EUR</td>\n",
              "      <td>MongoDB</td>\n",
              "      <td>MongoDB;MySQL;PostgreSQL;SQLite</td>\n",
              "      <td>Developer, front-end;Developer, full-stack;Dev...</td>\n",
              "      <td>Bachelor’s degree (B.A., B.S., B.Eng., etc.)</td>\n",
              "      <td>Employed full-time</td>\n",
              "      <td>White or of European descent</td>\n",
              "      <td>Man</td>\n",
              "      <td>Flex time or a flexible schedule;Remote work o...</td>\n",
              "      <td>Slightly dissatisfied</td>\n",
              "      <td>I’m not actively looking, but I am open to new...</td>\n",
              "      <td>HTML/CSS;JavaScript;TypeScript</td>\n",
              "      <td>HTML/CSS;JavaScript;TypeScript</td>\n",
              "      <td>Node.js;React Native;Unity 3D</td>\n",
              "      <td>Node.js;React Native</td>\n",
              "      <td>Github;Slack;Google Suite (Docs, Meet, etc);St...</td>\n",
              "      <td>Confluence;Jira;Github;Gitlab;Slack;Google Sui...</td>\n",
              "      <td>Yes</td>\n",
              "      <td>Neutral</td>\n",
              "      <td>Somewhat important</td>\n",
              "      <td>Just because;Curious about other opportunities...</td>\n",
              "      <td>Company reviews from third party sites (e.g. G...</td>\n",
              "      <td>Once a year</td>\n",
              "      <td>No</td>\n",
              "      <td>No</td>\n",
              "      <td>No</td>\n",
              "      <td>Sometimes: 1-2 days per month but less than we...</td>\n",
              "      <td>Ask developers I know/work with;Visit develope...</td>\n",
              "      <td>Hello, old friend</td>\n",
              "      <td>Stack Overflow (public Q&amp;A for anyone who code...</td>\n",
              "      <td>Visit Stack Overflow;Go for a walk or other ph...</td>\n",
              "      <td>MacOS</td>\n",
              "      <td>500 to 999 employees</td>\n",
              "      <td>Docker;Google Cloud Platform;iOS;Kubernetes;MacOS</td>\n",
              "      <td>AWS;Docker;Google Cloud Platform;Heroku;iOS;Ku...</td>\n",
              "      <td>I have some influence</td>\n",
              "      <td>Straight / Heterosexual</td>\n",
              "      <td>Yes</td>\n",
              "      <td>Neutral</td>\n",
              "      <td>Less than once per month or monthly</td>\n",
              "      <td>Daily or almost daily</td>\n",
              "      <td>Neither easy nor difficult</td>\n",
              "      <td>Appropriate in length</td>\n",
              "      <td>No</td>\n",
              "      <td>Computer science, computer engineering, or sof...</td>\n",
              "      <td>Express;Gatsby;React.js;Ruby on Rails</td>\n",
              "      <td>Angular;Angular.js;Django;Express;React.js</td>\n",
              "      <td>Just as welcome now as I felt last year</td>\n",
              "      <td>40.0</td>\n",
              "      <td>20</td>\n",
              "      <td>14</td>\n",
              "      <td>58800.0</td>\n",
              "    </tr>\n",
              "    <tr>\n",
              "      <th>2</th>\n",
              "      <td>41</td>\n",
              "      <td>42</td>\n",
              "      <td>I am a developer by profession</td>\n",
              "      <td>No</td>\n",
              "      <td>32.0</td>\n",
              "      <td>14</td>\n",
              "      <td>Yearly</td>\n",
              "      <td>130000.0</td>\n",
              "      <td>130000.0</td>\n",
              "      <td>United States</td>\n",
              "      <td>United States dollar</td>\n",
              "      <td>USD</td>\n",
              "      <td>Cassandra;DynamoDB;MongoDB</td>\n",
              "      <td>Microsoft SQL Server;MySQL;Oracle;Redis</td>\n",
              "      <td>Developer, back-end;Developer, desktop or ente...</td>\n",
              "      <td>Bachelor’s degree (B.A., B.S., B.Eng., etc.)</td>\n",
              "      <td>Employed full-time</td>\n",
              "      <td>White or of European descent</td>\n",
              "      <td>Man</td>\n",
              "      <td>Remote work options;How widely used or impactf...</td>\n",
              "      <td>Very satisfied</td>\n",
              "      <td>I’m not actively looking, but I am open to new...</td>\n",
              "      <td>Bash/Shell/PowerShell;C#;Go;Java;Python;Rust</td>\n",
              "      <td>Bash/Shell/PowerShell;C#;HTML/CSS;Java;JavaScr...</td>\n",
              "      <td>.NET Core;Teraform</td>\n",
              "      <td>.NET;.NET Core;Node.js;Teraform</td>\n",
              "      <td>Confluence;Jira;Gitlab</td>\n",
              "      <td>Confluence;Jira;Github;Gitlab;Slack;Trello;Goo...</td>\n",
              "      <td>Yes</td>\n",
              "      <td>Somewhat important</td>\n",
              "      <td>Not at all important/not necessary</td>\n",
              "      <td>Curious about other opportunities;Better compe...</td>\n",
              "      <td>Read company media, such as employee blogs or ...</td>\n",
              "      <td>Once every few years</td>\n",
              "      <td>Yes</td>\n",
              "      <td>Yes</td>\n",
              "      <td>Yes</td>\n",
              "      <td>Rarely: 1-2 days per year or less</td>\n",
              "      <td>Start a free trial;Ask developers I know/work ...</td>\n",
              "      <td>Amused</td>\n",
              "      <td>Stack Overflow (public Q&amp;A for anyone who code...</td>\n",
              "      <td>Visit Stack Overflow;Go for a walk or other ph...</td>\n",
              "      <td>Windows</td>\n",
              "      <td>1,000 to 4,999 employees</td>\n",
              "      <td>Android;AWS;Docker;Kubernetes;Raspberry Pi</td>\n",
              "      <td>AWS;Docker;Linux;MacOS;Raspberry Pi;Slack Apps...</td>\n",
              "      <td>I have some influence</td>\n",
              "      <td>Straight / Heterosexual</td>\n",
              "      <td>Yes</td>\n",
              "      <td>No, not really</td>\n",
              "      <td>Less than once per month or monthly</td>\n",
              "      <td>A few times per month or weekly</td>\n",
              "      <td>Easy</td>\n",
              "      <td>Appropriate in length</td>\n",
              "      <td>No</td>\n",
              "      <td>Computer science, computer engineering, or sof...</td>\n",
              "      <td>ASP.NET Core;Spring</td>\n",
              "      <td>ASP.NET;Flask;React.js;Spring</td>\n",
              "      <td>Somewhat less welcome now than last year</td>\n",
              "      <td>37.0</td>\n",
              "      <td>16</td>\n",
              "      <td>10</td>\n",
              "      <td>130000.0</td>\n",
              "    </tr>\n",
              "    <tr>\n",
              "      <th>3</th>\n",
              "      <td>46</td>\n",
              "      <td>47</td>\n",
              "      <td>I am a developer by profession</td>\n",
              "      <td>Yes</td>\n",
              "      <td>53.0</td>\n",
              "      <td>10</td>\n",
              "      <td>Yearly</td>\n",
              "      <td>58000.0</td>\n",
              "      <td>74970.0</td>\n",
              "      <td>United Kingdom</td>\n",
              "      <td>Pound sterling</td>\n",
              "      <td>GBP</td>\n",
              "      <td>PostgreSQL;SQLite</td>\n",
              "      <td>Microsoft SQL Server;Oracle;PostgreSQL;SQLite</td>\n",
              "      <td>Data scientist or machine learning specialist;...</td>\n",
              "      <td>Other doctoral degree (Ph.D., Ed.D., etc.)</td>\n",
              "      <td>Employed full-time</td>\n",
              "      <td>White or of European descent</td>\n",
              "      <td>Man</td>\n",
              "      <td>Remote work options;How widely used or impactf...</td>\n",
              "      <td>Very satisfied</td>\n",
              "      <td>I’m not actively looking, but I am open to new...</td>\n",
              "      <td>Bash/Shell/PowerShell;Java;Python;SQL</td>\n",
              "      <td>Bash/Shell/PowerShell;C#;Java;JavaScript;Pytho...</td>\n",
              "      <td>Pandas</td>\n",
              "      <td>.NET;.NET Core</td>\n",
              "      <td>Github;Gitlab</td>\n",
              "      <td>Confluence;Jira;Github;Gitlab;Microsoft Azure;...</td>\n",
              "      <td>Yes</td>\n",
              "      <td>Neutral</td>\n",
              "      <td>Not at all important/not necessary</td>\n",
              "      <td>Just because;Having a bad day (or week or mont...</td>\n",
              "      <td>Read company media, such as employee blogs or ...</td>\n",
              "      <td>Once a year</td>\n",
              "      <td>No</td>\n",
              "      <td>Onboarding? What onboarding?</td>\n",
              "      <td>Yes</td>\n",
              "      <td>Occasionally: 1-2 days per quarter but less th...</td>\n",
              "      <td>Start a free trial;Ask developers I know/work ...</td>\n",
              "      <td>Hello, old friend</td>\n",
              "      <td>Stack Overflow (public Q&amp;A for anyone who code...</td>\n",
              "      <td>Call a coworker or friend;Visit Stack Overflow...</td>\n",
              "      <td>Linux-based</td>\n",
              "      <td>10 to 19 employees</td>\n",
              "      <td>Arduino;Docker;Linux;Raspberry Pi</td>\n",
              "      <td>Arduino;AWS;Linux;Microsoft Azure;Raspberry Pi</td>\n",
              "      <td>I have some influence</td>\n",
              "      <td>Straight / Heterosexual</td>\n",
              "      <td>Yes</td>\n",
              "      <td>Yes, definitely</td>\n",
              "      <td>A few times per week</td>\n",
              "      <td>A few times per week</td>\n",
              "      <td>Neither easy nor difficult</td>\n",
              "      <td>Appropriate in length</td>\n",
              "      <td>No</td>\n",
              "      <td>A natural science (such as biology, chemistry,...</td>\n",
              "      <td>Flask;Spring</td>\n",
              "      <td>Flask;Spring</td>\n",
              "      <td>Just as welcome now as I felt last year</td>\n",
              "      <td>40.0</td>\n",
              "      <td>43</td>\n",
              "      <td>28</td>\n",
              "      <td>58000.0</td>\n",
              "    </tr>\n",
              "    <tr>\n",
              "      <th>4</th>\n",
              "      <td>68</td>\n",
              "      <td>69</td>\n",
              "      <td>I am a developer by profession</td>\n",
              "      <td>Yes</td>\n",
              "      <td>25.0</td>\n",
              "      <td>12</td>\n",
              "      <td>Yearly</td>\n",
              "      <td>550000.0</td>\n",
              "      <td>594539.0</td>\n",
              "      <td>France</td>\n",
              "      <td>European Euro</td>\n",
              "      <td>EUR</td>\n",
              "      <td>PostgreSQL</td>\n",
              "      <td>MongoDB</td>\n",
              "      <td>Data scientist or machine learning specialist;...</td>\n",
              "      <td>Master’s degree (M.A., M.S., M.Eng., MBA, etc.)</td>\n",
              "      <td>Employed full-time</td>\n",
              "      <td>White or of European descent</td>\n",
              "      <td>Man</td>\n",
              "      <td>Flex time or a flexible schedule;How widely us...</td>\n",
              "      <td>Very satisfied</td>\n",
              "      <td>I am not interested in new job opportunities</td>\n",
              "      <td>Python;Rust;Scala;SQL</td>\n",
              "      <td>HTML/CSS;Python</td>\n",
              "      <td>Keras;Pandas;TensorFlow</td>\n",
              "      <td>Keras;Pandas;TensorFlow</td>\n",
              "      <td>Github;Slack;Google Suite (Docs, Meet, etc)</td>\n",
              "      <td>Confluence;Jira;Github;Slack;Google Suite (Doc...</td>\n",
              "      <td>Yes</td>\n",
              "      <td>Extremely important</td>\n",
              "      <td>Very important</td>\n",
              "      <td>Curious about other opportunities;Better compe...</td>\n",
              "      <td>Read company media, such as employee blogs or ...</td>\n",
              "      <td>Once a year</td>\n",
              "      <td>No</td>\n",
              "      <td>No</td>\n",
              "      <td>No</td>\n",
              "      <td>Sometimes: 1-2 days per month but less than we...</td>\n",
              "      <td>Ask developers I know/work with;Visit develope...</td>\n",
              "      <td>Hello, old friend</td>\n",
              "      <td>Stack Overflow (public Q&amp;A for anyone who code...</td>\n",
              "      <td>Call a coworker or friend;Visit Stack Overflow...</td>\n",
              "      <td>MacOS</td>\n",
              "      <td>20 to 99 employees</td>\n",
              "      <td>Kubernetes;Linux</td>\n",
              "      <td>Linux;Microsoft Azure</td>\n",
              "      <td>I have some influence</td>\n",
              "      <td>Bisexual</td>\n",
              "      <td>Yes</td>\n",
              "      <td>Yes, somewhat</td>\n",
              "      <td>A few times per month or weekly</td>\n",
              "      <td>A few times per week</td>\n",
              "      <td>Easy</td>\n",
              "      <td>Too short</td>\n",
              "      <td>No</td>\n",
              "      <td>Computer science, computer engineering, or sof...</td>\n",
              "      <td>Django;Flask</td>\n",
              "      <td>Django;Flask</td>\n",
              "      <td>Just as welcome now as I felt last year</td>\n",
              "      <td>40.0</td>\n",
              "      <td>13</td>\n",
              "      <td>3</td>\n",
              "      <td>550000.0</td>\n",
              "    </tr>\n",
              "  </tbody>\n",
              "</table>\n",
              "</div>"
            ],
            "text/plain": [
              "   Unnamed: 0  Respondent  ... YearsCodePro NormalizedAnnualCompensation\n",
              "0           9          10  ...            4                      25000.0\n",
              "1          32          33  ...           14                      58800.0\n",
              "2          41          42  ...           10                     130000.0\n",
              "3          46          47  ...           28                      58000.0\n",
              "4          68          69  ...            3                     550000.0\n",
              "\n",
              "[5 rows x 63 columns]"
            ]
          },
          "metadata": {
            "tags": []
          },
          "execution_count": 18
        }
      ]
    },
    {
      "cell_type": "markdown",
      "metadata": {
        "id": "zJq5wO0r6B2c"
      },
      "source": [
        "## Distribution\n"
      ]
    },
    {
      "cell_type": "markdown",
      "metadata": {
        "id": "AhOBvSw26B2c"
      },
      "source": [
        "### Determine how the data is distributed\n"
      ]
    },
    {
      "cell_type": "markdown",
      "metadata": {
        "id": "rsG2UtVM6B2d"
      },
      "source": [
        "The column `ConvertedComp` contains Salary converted to annual USD salaries using the exchange rate on 2019-02-01.\n",
        "\n",
        "This assumes 12 working months and 50 working weeks.\n"
      ]
    },
    {
      "cell_type": "markdown",
      "metadata": {
        "id": "8y9cz7Yx6B2d"
      },
      "source": [
        "Plot the distribution curve for the column `ConvertedComp`.\n"
      ]
    },
    {
      "cell_type": "code",
      "metadata": {
        "colab": {
          "base_uri": "https://localhost:8080/",
          "height": 289
        },
        "id": "g_4ptXUF6B2e",
        "outputId": "20903872-dae8-4078-a8a8-0332fc7a9529"
      },
      "source": [
        "# your code goes here\n",
        "import matplotlib.pyplot as plt\n",
        "import scipy.stats.kde as kde\n",
        "df_plot = df['ConvertedComp']\n",
        "df_plot.plot.kde(bw_method=3)\n",
        "plt.show()"
      ],
      "execution_count": null,
      "outputs": [
        {
          "output_type": "display_data",
          "data": {
            "image/png": "[encoded data removed]",
            "text/plain": [
              "<Figure size 432x288 with 1 Axes>"
            ]
          },
          "metadata": {
            "tags": [],
            "needs_background": "light"
          }
        }
      ]
    },
    {
      "cell_type": "markdown",
      "metadata": {
        "id": "BVx2Ypav6B2e"
      },
      "source": [
        "Plot the histogram for the column `ConvertedComp`.\n"
      ]
    },
    {
      "cell_type": "code",
      "metadata": {
        "colab": {
          "base_uri": "https://localhost:8080/",
          "height": 278
        },
        "id": "PcbCR57a6B2e",
        "outputId": "6a97758b-f816-432c-f3c7-fb0c5f335e3e"
      },
      "source": [
        "# your code goes here\n",
        "df_plot.plot(kind='hist', bins=25)\n",
        "plt.show()"
      ],
      "execution_count": null,
      "outputs": [
        {
          "output_type": "display_data",
          "data": {
            "image/png": "[encoded data removed]",
            "text/plain": [
              "<Figure size 432x288 with 1 Axes>"
            ]
          },
          "metadata": {
            "tags": [],
            "needs_background": "light"
          }
        }
      ]
    },
    {
      "cell_type": "markdown",
      "metadata": {
        "id": "hiB-pXPq6B2f"
      },
      "source": [
        "What is the median of the column `ConvertedComp`?\n"
      ]
    },
    {
      "cell_type": "code",
      "metadata": {
        "colab": {
          "base_uri": "https://localhost:8080/"
        },
        "id": "kLL65CzA6B2f",
        "outputId": "ae72c525-6a35-40d5-a229-9243ba31e859"
      },
      "source": [
        "# your code goes here\n",
        "print(df_plot.median())"
      ],
      "execution_count": null,
      "outputs": [
        {
          "output_type": "stream",
          "text": [
            "60505.0\n"
          ],
          "name": "stdout"
        }
      ]
    },
    {
      "cell_type": "markdown",
      "metadata": {
        "id": "9gUo5-yS6B2f"
      },
      "source": [
        "How many responders identified themselves only as a **Man**?\n"
      ]
    },
    {
      "cell_type": "code",
      "metadata": {
        "colab": {
          "base_uri": "https://localhost:8080/"
        },
        "id": "gorYbwbv6B2g",
        "outputId": "1d32b95e-ae29-4163-b12d-911f01f37393"
      },
      "source": [
        "# your code goes here\n",
        "df['Gender'].value_counts()['Man']"
      ],
      "execution_count": null,
      "outputs": [
        {
          "output_type": "execute_result",
          "data": {
            "text/plain": [
              "4184"
            ]
          },
          "metadata": {
            "tags": []
          },
          "execution_count": 22
        }
      ]
    },
    {
      "cell_type": "markdown",
      "metadata": {
        "id": "EFSZmOPa6B2g"
      },
      "source": [
        "Find out the  median ConvertedComp of responders identified themselves only as a **Woman**?\n"
      ]
    },
    {
      "cell_type": "code",
      "metadata": {
        "colab": {
          "base_uri": "https://localhost:8080/"
        },
        "id": "0xV367si6B2h",
        "outputId": "815733d7-fc29-4698-d4ee-881c2146c03b"
      },
      "source": [
        "# your code goes here\n",
        "df_woman = df[df.Gender=='Woman']\n",
        "df_woman.ConvertedComp.median()"
      ],
      "execution_count": null,
      "outputs": [
        {
          "output_type": "execute_result",
          "data": {
            "text/plain": [
              "59454.0"
            ]
          },
          "metadata": {
            "tags": []
          },
          "execution_count": 23
        }
      ]
    },
    {
      "cell_type": "markdown",
      "metadata": {
        "id": "1B101sIA6B2h"
      },
      "source": [
        "Give the five number summary for the column `Age`?\n"
      ]
    },
    {
      "cell_type": "markdown",
      "metadata": {
        "id": "tuODtBGb6B2i"
      },
      "source": [
        "**Double click here for hint**.\n",
        "\n",
        "<!--\n",
        "min,q1,median,q3,max of a column are its five number summary.\n",
        "-->\n"
      ]
    },
    {
      "cell_type": "code",
      "metadata": {
        "colab": {
          "base_uri": "https://localhost:8080/",
          "height": 204
        },
        "id": "S-pNBhkt6B2i",
        "outputId": "637992b5-1ee9-4401-e1b4-2f5739c467fd"
      },
      "source": [
        "# your code goes here\n",
        "df.Age.describe().to_frame()[3:8]"
      ],
      "execution_count": null,
      "outputs": [
        {
          "output_type": "execute_result",
          "data": {
            "text/html": [
              "<div>\n",
              "<style scoped>\n",
              "    .dataframe tbody tr th:only-of-type {\n",
              "        vertical-align: middle;\n",
              "    }\n",
              "\n",
              "    .dataframe tbody tr th {\n",
              "        vertical-align: top;\n",
              "    }\n",
              "\n",
              "    .dataframe thead th {\n",
              "        text-align: right;\n",
              "    }\n",
              "</style>\n",
              "<table border=\"1\" class=\"dataframe\">\n",
              "  <thead>\n",
              "    <tr style=\"text-align: right;\">\n",
              "      <th></th>\n",
              "      <th>Age</th>\n",
              "    </tr>\n",
              "  </thead>\n",
              "  <tbody>\n",
              "    <tr>\n",
              "      <th>min</th>\n",
              "      <td>17.0</td>\n",
              "    </tr>\n",
              "    <tr>\n",
              "      <th>25%</th>\n",
              "      <td>27.0</td>\n",
              "    </tr>\n",
              "    <tr>\n",
              "      <th>50%</th>\n",
              "      <td>30.0</td>\n",
              "    </tr>\n",
              "    <tr>\n",
              "      <th>75%</th>\n",
              "      <td>36.0</td>\n",
              "    </tr>\n",
              "    <tr>\n",
              "      <th>max</th>\n",
              "      <td>70.0</td>\n",
              "    </tr>\n",
              "  </tbody>\n",
              "</table>\n",
              "</div>"
            ],
            "text/plain": [
              "      Age\n",
              "min  17.0\n",
              "25%  27.0\n",
              "50%  30.0\n",
              "75%  36.0\n",
              "max  70.0"
            ]
          },
          "metadata": {
            "tags": []
          },
          "execution_count": 24
        }
      ]
    },
    {
      "cell_type": "markdown",
      "metadata": {
        "id": "f6mXwgfX6B2i"
      },
      "source": [
        "Plot a histogram of the column `Age`.\n"
      ]
    },
    {
      "cell_type": "code",
      "metadata": {
        "colab": {
          "base_uri": "https://localhost:8080/",
          "height": 265
        },
        "id": "kPRhp5kh6B2j",
        "outputId": "be3da073-d5a4-447d-de7f-d290fde03087"
      },
      "source": [
        "# your code goes here\n",
        "df.Age.plot(kind='hist', bins=25)\n",
        "plt.show()"
      ],
      "execution_count": null,
      "outputs": [
        {
          "output_type": "display_data",
          "data": {
            "image/png": "[encoded data removed]",
            "text/plain": [
              "<Figure size 432x288 with 1 Axes>"
            ]
          },
          "metadata": {
            "tags": [],
            "needs_background": "light"
          }
        }
      ]
    },
    {
      "cell_type": "markdown",
      "metadata": {
        "id": "xb_rtoq36B2j"
      },
      "source": [
        "## Outliers\n"
      ]
    },
    {
      "cell_type": "markdown",
      "metadata": {
        "id": "DDmuLaS_6B2j"
      },
      "source": [
        "### Finding outliers\n"
      ]
    },
    {
      "cell_type": "markdown",
      "metadata": {
        "id": "4GDg9eka6B2k"
      },
      "source": [
        "Find out if outliers exist in the column `ConvertedComp` using a box plot?\n"
      ]
    },
    {
      "cell_type": "code",
      "metadata": {
        "colab": {
          "base_uri": "https://localhost:8080/",
          "height": 279
        },
        "id": "GDcTc8Wq6B2k",
        "outputId": "3d692157-5f47-4516-f536-2dd46ad60a9c"
      },
      "source": [
        "# your code goes here\n",
        "import seaborn as sns\n",
        "sns.boxplot(df_plot, color='g')\n",
        "plt.xlim(0,2500000)\n",
        "plt.show()"
      ],
      "execution_count": null,
      "outputs": [
        {
          "output_type": "display_data",
          "data": {
            "image/png": "[encoded data removed]",
            "text/plain": [
              "<Figure size 432x288 with 1 Axes>"
            ]
          },
          "metadata": {
            "tags": [],
            "needs_background": "light"
          }
        }
      ]
    },
    {
      "cell_type": "markdown",
      "metadata": {
        "id": "KHCxMKYi6B2l"
      },
      "source": [
        "Find out the Inter Quartile Range for the column `ConvertedComp`.\n"
      ]
    },
    {
      "cell_type": "code",
      "metadata": {
        "colab": {
          "base_uri": "https://localhost:8080/"
        },
        "id": "vbmUARL46B2l",
        "outputId": "34a5b6e0-4246-41a6-de67-6820d09643a5"
      },
      "source": [
        "# your code goes here\n",
        "Q1 = df['ConvertedComp'].quantile(0.25)\n",
        "Q3 = df['ConvertedComp'].quantile(0.75)\n",
        "IQR = Q3 - Q1\n",
        "print(IQR)"
      ],
      "execution_count": null,
      "outputs": [
        {
          "output_type": "stream",
          "text": [
            "69844.0\n"
          ],
          "name": "stdout"
        }
      ]
    },
    {
      "cell_type": "markdown",
      "metadata": {
        "id": "kS0HyNun6B2l"
      },
      "source": [
        "Find out the upper and lower bounds.\n"
      ]
    },
    {
      "cell_type": "code",
      "metadata": {
        "colab": {
          "base_uri": "https://localhost:8080/"
        },
        "id": "e8uH8vV36B2m",
        "outputId": "af4df07f-166a-407e-c6d9-40ed98fd0a96"
      },
      "source": [
        "# your code goes here\n",
        "lower = Q1 - 1.5*IQR\n",
        "upper = Q3 + 1.5*IQR\n",
        "print('Lower bound: ', lower, '\\nUpper bound: ', upper)\n"
      ],
      "execution_count": null,
      "outputs": [
        {
          "output_type": "stream",
          "text": [
            "Lower bound:  -74610.0 \n",
            "Upper bound:  204766.0\n"
          ],
          "name": "stdout"
        }
      ]
    },
    {
      "cell_type": "markdown",
      "metadata": {
        "id": "G1MjWycC6B2m"
      },
      "source": [
        "Identify how many outliers are there in the `ConvertedComp` column.\n"
      ]
    },
    {
      "cell_type": "code",
      "metadata": {
        "colab": {
          "base_uri": "https://localhost:8080/"
        },
        "id": "JQ4d5HA46B2m",
        "outputId": "48cae343-872d-4624-a095-546ba5ab0129"
      },
      "source": [
        "# number of outliers below the lower bound\n",
        "df_outliers_blw = df.loc[(df.ConvertedComp < lower)]\n",
        "df_outliers_blw.ConvertedComp.count()"
      ],
      "execution_count": null,
      "outputs": [
        {
          "output_type": "execute_result",
          "data": {
            "text/plain": [
              "0"
            ]
          },
          "metadata": {
            "tags": []
          },
          "execution_count": 29
        }
      ]
    },
    {
      "cell_type": "code",
      "metadata": {
        "colab": {
          "base_uri": "https://localhost:8080/"
        },
        "id": "nBYg8wvkRHNh",
        "outputId": "11c0bf3c-d97f-4e1b-d390-bea2956be060"
      },
      "source": [
        "# number of outliers above the upper bound\n",
        "df_outliers_abv = df.loc[(df.ConvertedComp > upper)]\n",
        "df_outliers_abv.ConvertedComp.count()"
      ],
      "execution_count": null,
      "outputs": [
        {
          "output_type": "execute_result",
          "data": {
            "text/plain": [
              "266"
            ]
          },
          "metadata": {
            "tags": []
          },
          "execution_count": 30
        }
      ]
    },
    {
      "cell_type": "markdown",
      "metadata": {
        "id": "sXuJDRK16B2n"
      },
      "source": [
        "Create a new dataframe by removing the outliers from the `ConvertedComp` column.\n"
      ]
    },
    {
      "cell_type": "code",
      "metadata": {
        "colab": {
          "base_uri": "https://localhost:8080/",
          "height": 649
        },
        "id": "jZb5s8_Q6B2n",
        "outputId": "06c6fc02-9d76-4694-c148-b413cb959cbe"
      },
      "source": [
        "# your code goes here\n",
        "df_in = df.loc[(Q1-1.5*IQR<df.ConvertedComp) & (df.ConvertedComp<Q3+1.5*IQR)]\n",
        "df_in.head()"
      ],
      "execution_count": null,
      "outputs": [
        {
          "output_type": "execute_result",
          "data": {
            "text/html": [
              "<div>\n",
              "<style scoped>\n",
              "    .dataframe tbody tr th:only-of-type {\n",
              "        vertical-align: middle;\n",
              "    }\n",
              "\n",
              "    .dataframe tbody tr th {\n",
              "        vertical-align: top;\n",
              "    }\n",
              "\n",
              "    .dataframe thead th {\n",
              "        text-align: right;\n",
              "    }\n",
              "</style>\n",
              "<table border=\"1\" class=\"dataframe\">\n",
              "  <thead>\n",
              "    <tr style=\"text-align: right;\">\n",
              "      <th></th>\n",
              "      <th>Age</th>\n",
              "      <th>Respondent</th>\n",
              "      <th>MainBranch</th>\n",
              "      <th>Hobbyist</th>\n",
              "      <th>Age1stCode</th>\n",
              "      <th>CompFreq</th>\n",
              "      <th>CompTotal</th>\n",
              "      <th>ConvertedComp</th>\n",
              "      <th>Country</th>\n",
              "      <th>CurrencyDesc</th>\n",
              "      <th>CurrencySymbol</th>\n",
              "      <th>DatabaseDesireNextYear</th>\n",
              "      <th>DatabaseWorkedWith</th>\n",
              "      <th>DevType</th>\n",
              "      <th>EdLevel</th>\n",
              "      <th>Employment</th>\n",
              "      <th>Ethnicity</th>\n",
              "      <th>Gender</th>\n",
              "      <th>JobFactors</th>\n",
              "      <th>JobSat</th>\n",
              "      <th>JobSeek</th>\n",
              "      <th>LanguageDesireNextYear</th>\n",
              "      <th>LanguageWorkedWith</th>\n",
              "      <th>MiscTechDesireNextYear</th>\n",
              "      <th>MiscTechWorkedWith</th>\n",
              "      <th>NEWCollabToolsDesireNextYear</th>\n",
              "      <th>NEWCollabToolsWorkedWith</th>\n",
              "      <th>NEWDevOps</th>\n",
              "      <th>NEWDevOpsImpt</th>\n",
              "      <th>NEWEdImpt</th>\n",
              "      <th>NEWJobHunt</th>\n",
              "      <th>NEWJobHuntResearch</th>\n",
              "      <th>NEWLearn</th>\n",
              "      <th>NEWOffTopic</th>\n",
              "      <th>NEWOnboardGood</th>\n",
              "      <th>NEWOtherComms</th>\n",
              "      <th>NEWOvertime</th>\n",
              "      <th>NEWPurchaseResearch</th>\n",
              "      <th>NEWPurpleLink</th>\n",
              "      <th>NEWSOSites</th>\n",
              "      <th>NEWStuck</th>\n",
              "      <th>OpSys</th>\n",
              "      <th>OrgSize</th>\n",
              "      <th>PlatformDesireNextYear</th>\n",
              "      <th>PlatformWorkedWith</th>\n",
              "      <th>PurchaseWhat</th>\n",
              "      <th>Sexuality</th>\n",
              "      <th>SOAccount</th>\n",
              "      <th>SOComm</th>\n",
              "      <th>SOPartFreq</th>\n",
              "      <th>SOVisitFreq</th>\n",
              "      <th>SurveyEase</th>\n",
              "      <th>SurveyLength</th>\n",
              "      <th>Trans</th>\n",
              "      <th>UndergradMajor</th>\n",
              "      <th>WebframeDesireNextYear</th>\n",
              "      <th>WebframeWorkedWith</th>\n",
              "      <th>WelcomeChange</th>\n",
              "      <th>WorkWeekHrs</th>\n",
              "      <th>YearsCode</th>\n",
              "      <th>YearsCodePro</th>\n",
              "      <th>NormalizedAnnualCompensation</th>\n",
              "    </tr>\n",
              "  </thead>\n",
              "  <tbody>\n",
              "    <tr>\n",
              "      <th>0</th>\n",
              "      <td>22.0</td>\n",
              "      <td>10</td>\n",
              "      <td>I am a developer by profession</td>\n",
              "      <td>Yes</td>\n",
              "      <td>14</td>\n",
              "      <td>Yearly</td>\n",
              "      <td>25000.0</td>\n",
              "      <td>32315.0</td>\n",
              "      <td>United Kingdom</td>\n",
              "      <td>Pound sterling</td>\n",
              "      <td>GBP</td>\n",
              "      <td>Microsoft SQL Server</td>\n",
              "      <td>Microsoft SQL Server</td>\n",
              "      <td>Database administrator;Developer, full-stack;D...</td>\n",
              "      <td>Master’s degree (M.A., M.S., M.Eng., MBA, etc.)</td>\n",
              "      <td>Employed full-time</td>\n",
              "      <td>White or of European descent</td>\n",
              "      <td>Man</td>\n",
              "      <td>Flex time or a flexible schedule;How widely us...</td>\n",
              "      <td>Very satisfied</td>\n",
              "      <td>I’m not actively looking, but I am open to new...</td>\n",
              "      <td>HTML/CSS;Java;JavaScript;Python;R;SQL</td>\n",
              "      <td>HTML/CSS;Java;JavaScript;Python;SQL</td>\n",
              "      <td>Pandas;TensorFlow</td>\n",
              "      <td>Pandas</td>\n",
              "      <td>Github;Microsoft Teams</td>\n",
              "      <td>Github;Microsoft Teams</td>\n",
              "      <td>No</td>\n",
              "      <td>Neutral</td>\n",
              "      <td>Fairly important</td>\n",
              "      <td>Curious about other opportunities;Better compe...</td>\n",
              "      <td>Company reviews from third party sites (e.g. G...</td>\n",
              "      <td>Every few months</td>\n",
              "      <td>Yes</td>\n",
              "      <td>Onboarding? What onboarding?</td>\n",
              "      <td>No</td>\n",
              "      <td>Often: 1-2 days per week or more</td>\n",
              "      <td>Start a free trial;Ask developers I know/work ...</td>\n",
              "      <td>Hello, old friend</td>\n",
              "      <td>Stack Overflow (public Q&amp;A for anyone who code...</td>\n",
              "      <td>Visit Stack Overflow</td>\n",
              "      <td>Windows</td>\n",
              "      <td>2 to 9 employees</td>\n",
              "      <td>Android;Linux;Raspberry Pi;Windows</td>\n",
              "      <td>Android;Linux;Raspberry Pi;Windows</td>\n",
              "      <td>I have a great deal of influence</td>\n",
              "      <td>Straight / Heterosexual</td>\n",
              "      <td>Yes</td>\n",
              "      <td>Yes, definitely</td>\n",
              "      <td>Multiple times per day</td>\n",
              "      <td>Multiple times per day</td>\n",
              "      <td>Easy</td>\n",
              "      <td>Appropriate in length</td>\n",
              "      <td>No</td>\n",
              "      <td>Mathematics or statistics</td>\n",
              "      <td>Flask;jQuery</td>\n",
              "      <td>Flask;jQuery</td>\n",
              "      <td>Somewhat more welcome now than last year</td>\n",
              "      <td>36.0</td>\n",
              "      <td>8</td>\n",
              "      <td>4</td>\n",
              "      <td>25000.0</td>\n",
              "    </tr>\n",
              "    <tr>\n",
              "      <th>1</th>\n",
              "      <td>39.0</td>\n",
              "      <td>33</td>\n",
              "      <td>I am a developer by profession</td>\n",
              "      <td>Yes</td>\n",
              "      <td>14</td>\n",
              "      <td>Monthly</td>\n",
              "      <td>4900.0</td>\n",
              "      <td>63564.0</td>\n",
              "      <td>Belgium</td>\n",
              "      <td>European Euro</td>\n",
              "      <td>EUR</td>\n",
              "      <td>MongoDB</td>\n",
              "      <td>MongoDB;MySQL;PostgreSQL;SQLite</td>\n",
              "      <td>Developer, front-end;Developer, full-stack;Dev...</td>\n",
              "      <td>Bachelor’s degree (B.A., B.S., B.Eng., etc.)</td>\n",
              "      <td>Employed full-time</td>\n",
              "      <td>White or of European descent</td>\n",
              "      <td>Man</td>\n",
              "      <td>Flex time or a flexible schedule;Remote work o...</td>\n",
              "      <td>Slightly dissatisfied</td>\n",
              "      <td>I’m not actively looking, but I am open to new...</td>\n",
              "      <td>HTML/CSS;JavaScript;TypeScript</td>\n",
              "      <td>HTML/CSS;JavaScript;TypeScript</td>\n",
              "      <td>Node.js;React Native;Unity 3D</td>\n",
              "      <td>Node.js;React Native</td>\n",
              "      <td>Github;Slack;Google Suite (Docs, Meet, etc);St...</td>\n",
              "      <td>Confluence;Jira;Github;Gitlab;Slack;Google Sui...</td>\n",
              "      <td>Yes</td>\n",
              "      <td>Neutral</td>\n",
              "      <td>Somewhat important</td>\n",
              "      <td>Just because;Curious about other opportunities...</td>\n",
              "      <td>Company reviews from third party sites (e.g. G...</td>\n",
              "      <td>Once a year</td>\n",
              "      <td>No</td>\n",
              "      <td>No</td>\n",
              "      <td>No</td>\n",
              "      <td>Sometimes: 1-2 days per month but less than we...</td>\n",
              "      <td>Ask developers I know/work with;Visit develope...</td>\n",
              "      <td>Hello, old friend</td>\n",
              "      <td>Stack Overflow (public Q&amp;A for anyone who code...</td>\n",
              "      <td>Visit Stack Overflow;Go for a walk or other ph...</td>\n",
              "      <td>MacOS</td>\n",
              "      <td>500 to 999 employees</td>\n",
              "      <td>Docker;Google Cloud Platform;iOS;Kubernetes;MacOS</td>\n",
              "      <td>AWS;Docker;Google Cloud Platform;Heroku;iOS;Ku...</td>\n",
              "      <td>I have some influence</td>\n",
              "      <td>Straight / Heterosexual</td>\n",
              "      <td>Yes</td>\n",
              "      <td>Neutral</td>\n",
              "      <td>Less than once per month or monthly</td>\n",
              "      <td>Daily or almost daily</td>\n",
              "      <td>Neither easy nor difficult</td>\n",
              "      <td>Appropriate in length</td>\n",
              "      <td>No</td>\n",
              "      <td>Computer science, computer engineering, or sof...</td>\n",
              "      <td>Express;Gatsby;React.js;Ruby on Rails</td>\n",
              "      <td>Angular;Angular.js;Django;Express;React.js</td>\n",
              "      <td>Just as welcome now as I felt last year</td>\n",
              "      <td>40.0</td>\n",
              "      <td>20</td>\n",
              "      <td>14</td>\n",
              "      <td>58800.0</td>\n",
              "    </tr>\n",
              "    <tr>\n",
              "      <th>2</th>\n",
              "      <td>32.0</td>\n",
              "      <td>42</td>\n",
              "      <td>I am a developer by profession</td>\n",
              "      <td>No</td>\n",
              "      <td>14</td>\n",
              "      <td>Yearly</td>\n",
              "      <td>130000.0</td>\n",
              "      <td>130000.0</td>\n",
              "      <td>United States</td>\n",
              "      <td>United States dollar</td>\n",
              "      <td>USD</td>\n",
              "      <td>Cassandra;DynamoDB;MongoDB</td>\n",
              "      <td>Microsoft SQL Server;MySQL;Oracle;Redis</td>\n",
              "      <td>Developer, back-end;Developer, desktop or ente...</td>\n",
              "      <td>Bachelor’s degree (B.A., B.S., B.Eng., etc.)</td>\n",
              "      <td>Employed full-time</td>\n",
              "      <td>White or of European descent</td>\n",
              "      <td>Man</td>\n",
              "      <td>Remote work options;How widely used or impactf...</td>\n",
              "      <td>Very satisfied</td>\n",
              "      <td>I’m not actively looking, but I am open to new...</td>\n",
              "      <td>Bash/Shell/PowerShell;C#;Go;Java;Python;Rust</td>\n",
              "      <td>Bash/Shell/PowerShell;C#;HTML/CSS;Java;JavaScr...</td>\n",
              "      <td>.NET Core;Teraform</td>\n",
              "      <td>.NET;.NET Core;Node.js;Teraform</td>\n",
              "      <td>Confluence;Jira;Gitlab</td>\n",
              "      <td>Confluence;Jira;Github;Gitlab;Slack;Trello;Goo...</td>\n",
              "      <td>Yes</td>\n",
              "      <td>Somewhat important</td>\n",
              "      <td>Not at all important/not necessary</td>\n",
              "      <td>Curious about other opportunities;Better compe...</td>\n",
              "      <td>Read company media, such as employee blogs or ...</td>\n",
              "      <td>Once every few years</td>\n",
              "      <td>Yes</td>\n",
              "      <td>Yes</td>\n",
              "      <td>Yes</td>\n",
              "      <td>Rarely: 1-2 days per year or less</td>\n",
              "      <td>Start a free trial;Ask developers I know/work ...</td>\n",
              "      <td>Amused</td>\n",
              "      <td>Stack Overflow (public Q&amp;A for anyone who code...</td>\n",
              "      <td>Visit Stack Overflow;Go for a walk or other ph...</td>\n",
              "      <td>Windows</td>\n",
              "      <td>1,000 to 4,999 employees</td>\n",
              "      <td>Android;AWS;Docker;Kubernetes;Raspberry Pi</td>\n",
              "      <td>AWS;Docker;Linux;MacOS;Raspberry Pi;Slack Apps...</td>\n",
              "      <td>I have some influence</td>\n",
              "      <td>Straight / Heterosexual</td>\n",
              "      <td>Yes</td>\n",
              "      <td>No, not really</td>\n",
              "      <td>Less than once per month or monthly</td>\n",
              "      <td>A few times per month or weekly</td>\n",
              "      <td>Easy</td>\n",
              "      <td>Appropriate in length</td>\n",
              "      <td>No</td>\n",
              "      <td>Computer science, computer engineering, or sof...</td>\n",
              "      <td>ASP.NET Core;Spring</td>\n",
              "      <td>ASP.NET;Flask;React.js;Spring</td>\n",
              "      <td>Somewhat less welcome now than last year</td>\n",
              "      <td>37.0</td>\n",
              "      <td>16</td>\n",
              "      <td>10</td>\n",
              "      <td>130000.0</td>\n",
              "    </tr>\n",
              "    <tr>\n",
              "      <th>3</th>\n",
              "      <td>53.0</td>\n",
              "      <td>47</td>\n",
              "      <td>I am a developer by profession</td>\n",
              "      <td>Yes</td>\n",
              "      <td>10</td>\n",
              "      <td>Yearly</td>\n",
              "      <td>58000.0</td>\n",
              "      <td>74970.0</td>\n",
              "      <td>United Kingdom</td>\n",
              "      <td>Pound sterling</td>\n",
              "      <td>GBP</td>\n",
              "      <td>PostgreSQL;SQLite</td>\n",
              "      <td>Microsoft SQL Server;Oracle;PostgreSQL;SQLite</td>\n",
              "      <td>Data scientist or machine learning specialist;...</td>\n",
              "      <td>Other doctoral degree (Ph.D., Ed.D., etc.)</td>\n",
              "      <td>Employed full-time</td>\n",
              "      <td>White or of European descent</td>\n",
              "      <td>Man</td>\n",
              "      <td>Remote work options;How widely used or impactf...</td>\n",
              "      <td>Very satisfied</td>\n",
              "      <td>I’m not actively looking, but I am open to new...</td>\n",
              "      <td>Bash/Shell/PowerShell;Java;Python;SQL</td>\n",
              "      <td>Bash/Shell/PowerShell;C#;Java;JavaScript;Pytho...</td>\n",
              "      <td>Pandas</td>\n",
              "      <td>.NET;.NET Core</td>\n",
              "      <td>Github;Gitlab</td>\n",
              "      <td>Confluence;Jira;Github;Gitlab;Microsoft Azure;...</td>\n",
              "      <td>Yes</td>\n",
              "      <td>Neutral</td>\n",
              "      <td>Not at all important/not necessary</td>\n",
              "      <td>Just because;Having a bad day (or week or mont...</td>\n",
              "      <td>Read company media, such as employee blogs or ...</td>\n",
              "      <td>Once a year</td>\n",
              "      <td>No</td>\n",
              "      <td>Onboarding? What onboarding?</td>\n",
              "      <td>Yes</td>\n",
              "      <td>Occasionally: 1-2 days per quarter but less th...</td>\n",
              "      <td>Start a free trial;Ask developers I know/work ...</td>\n",
              "      <td>Hello, old friend</td>\n",
              "      <td>Stack Overflow (public Q&amp;A for anyone who code...</td>\n",
              "      <td>Call a coworker or friend;Visit Stack Overflow...</td>\n",
              "      <td>Linux-based</td>\n",
              "      <td>10 to 19 employees</td>\n",
              "      <td>Arduino;Docker;Linux;Raspberry Pi</td>\n",
              "      <td>Arduino;AWS;Linux;Microsoft Azure;Raspberry Pi</td>\n",
              "      <td>I have some influence</td>\n",
              "      <td>Straight / Heterosexual</td>\n",
              "      <td>Yes</td>\n",
              "      <td>Yes, definitely</td>\n",
              "      <td>A few times per week</td>\n",
              "      <td>A few times per week</td>\n",
              "      <td>Neither easy nor difficult</td>\n",
              "      <td>Appropriate in length</td>\n",
              "      <td>No</td>\n",
              "      <td>A natural science (such as biology, chemistry,...</td>\n",
              "      <td>Flask;Spring</td>\n",
              "      <td>Flask;Spring</td>\n",
              "      <td>Just as welcome now as I felt last year</td>\n",
              "      <td>40.0</td>\n",
              "      <td>43</td>\n",
              "      <td>28</td>\n",
              "      <td>58000.0</td>\n",
              "    </tr>\n",
              "    <tr>\n",
              "      <th>5</th>\n",
              "      <td>32.0</td>\n",
              "      <td>80</td>\n",
              "      <td>I am a developer by profession</td>\n",
              "      <td>Yes</td>\n",
              "      <td>11</td>\n",
              "      <td>Yearly</td>\n",
              "      <td>94500.0</td>\n",
              "      <td>94500.0</td>\n",
              "      <td>United States</td>\n",
              "      <td>United States dollar</td>\n",
              "      <td>USD</td>\n",
              "      <td>Microsoft SQL Server;MySQL</td>\n",
              "      <td>Elasticsearch;Microsoft SQL Server;MySQL</td>\n",
              "      <td>DevOps specialist</td>\n",
              "      <td>Bachelor’s degree (B.A., B.S., B.Eng., etc.)</td>\n",
              "      <td>Employed full-time</td>\n",
              "      <td>Hispanic or Latino/a/x;White or of European de...</td>\n",
              "      <td>Man</td>\n",
              "      <td>Flex time or a flexible schedule;Specific depa...</td>\n",
              "      <td>Very satisfied</td>\n",
              "      <td>I’m not actively looking, but I am open to new...</td>\n",
              "      <td>Bash/Shell/PowerShell;C#;Dart;Go;TypeScript</td>\n",
              "      <td>Bash/Shell/PowerShell;C#;HTML/CSS;JavaScript;P...</td>\n",
              "      <td>.NET Core;Ansible;Teraform</td>\n",
              "      <td>.NET Core;Ansible</td>\n",
              "      <td>Confluence;Github;Gitlab;Microsoft Teams;Micro...</td>\n",
              "      <td>Confluence;Github;Gitlab;Microsoft Azure</td>\n",
              "      <td>Yes</td>\n",
              "      <td>Extremely important</td>\n",
              "      <td>Fairly important</td>\n",
              "      <td>Wanting to share accomplishments with a wider ...</td>\n",
              "      <td>Personal network - friends or family</td>\n",
              "      <td>Once a year</td>\n",
              "      <td>Not sure</td>\n",
              "      <td>No</td>\n",
              "      <td>No</td>\n",
              "      <td>Occasionally: 1-2 days per quarter but less th...</td>\n",
              "      <td>Start a free trial;Ask developers I know/work ...</td>\n",
              "      <td>Hello, old friend</td>\n",
              "      <td>Stack Overflow (public Q&amp;A for anyone who code...</td>\n",
              "      <td>Call a coworker or friend;Visit Stack Overflow...</td>\n",
              "      <td>Windows</td>\n",
              "      <td>10,000 or more employees</td>\n",
              "      <td>Docker;Kubernetes;Linux;Microsoft Azure;Windows</td>\n",
              "      <td>Docker;Linux;Microsoft Azure;Windows</td>\n",
              "      <td>I have some influence</td>\n",
              "      <td>Straight / Heterosexual</td>\n",
              "      <td>Yes</td>\n",
              "      <td>Yes, somewhat</td>\n",
              "      <td>Less than once per month or monthly</td>\n",
              "      <td>Multiple times per day</td>\n",
              "      <td>Easy</td>\n",
              "      <td>Too long</td>\n",
              "      <td>No</td>\n",
              "      <td>Information systems, information technology, o...</td>\n",
              "      <td>Angular;ASP.NET Core</td>\n",
              "      <td>Angular;ASP.NET;ASP.NET Core</td>\n",
              "      <td>Just as welcome now as I felt last year</td>\n",
              "      <td>40.0</td>\n",
              "      <td>21</td>\n",
              "      <td>7</td>\n",
              "      <td>94500.0</td>\n",
              "    </tr>\n",
              "  </tbody>\n",
              "</table>\n",
              "</div>"
            ],
            "text/plain": [
              "    Age  Respondent  ... YearsCodePro NormalizedAnnualCompensation\n",
              "0  22.0          10  ...            4                      25000.0\n",
              "1  39.0          33  ...           14                      58800.0\n",
              "2  32.0          42  ...           10                     130000.0\n",
              "3  53.0          47  ...           28                      58000.0\n",
              "5  32.0          80  ...            7                      94500.0\n",
              "\n",
              "[5 rows x 62 columns]"
            ]
          },
          "metadata": {
            "tags": []
          },
          "execution_count": 36
        }
      ]
    },
    {
      "cell_type": "markdown",
      "metadata": {
        "id": "Wir9xywT6B2n"
      },
      "source": [
        "## Correlation\n"
      ]
    },
    {
      "cell_type": "markdown",
      "metadata": {
        "id": "Sdh1p5ZZ6B2o"
      },
      "source": [
        "### Finding correlation\n"
      ]
    },
    {
      "cell_type": "markdown",
      "metadata": {
        "id": "Qhy8H-MQ6B2o"
      },
      "source": [
        "Find the correlation between `Age` and all other numerical columns.\n"
      ]
    },
    {
      "cell_type": "code",
      "metadata": {
        "id": "_0iEbyILTiw_"
      },
      "source": [
        "df=df[['Age','Respondent', 'MainBranch', 'Hobbyist',\n",
        "       'Age1stCode', 'CompFreq', 'CompTotal', 'ConvertedComp', 'Country',\n",
        "       'CurrencyDesc', 'CurrencySymbol', 'DatabaseDesireNextYear',\n",
        "       'DatabaseWorkedWith', 'DevType', 'EdLevel', 'Employment', 'Ethnicity',\n",
        "       'Gender', 'JobFactors', 'JobSat', 'JobSeek', 'LanguageDesireNextYear',\n",
        "       'LanguageWorkedWith', 'MiscTechDesireNextYear', 'MiscTechWorkedWith',\n",
        "       'NEWCollabToolsDesireNextYear', 'NEWCollabToolsWorkedWith', 'NEWDevOps',\n",
        "       'NEWDevOpsImpt', 'NEWEdImpt', 'NEWJobHunt', 'NEWJobHuntResearch',\n",
        "       'NEWLearn', 'NEWOffTopic', 'NEWOnboardGood', 'NEWOtherComms',\n",
        "       'NEWOvertime', 'NEWPurchaseResearch', 'NEWPurpleLink', 'NEWSOSites',\n",
        "       'NEWStuck', 'OpSys', 'OrgSize', 'PlatformDesireNextYear',\n",
        "       'PlatformWorkedWith', 'PurchaseWhat', 'Sexuality', 'SOAccount',\n",
        "       'SOComm', 'SOPartFreq', 'SOVisitFreq', 'SurveyEase', 'SurveyLength',\n",
        "       'Trans', 'UndergradMajor', 'WebframeDesireNextYear',\n",
        "       'WebframeWorkedWith', 'WelcomeChange', 'WorkWeekHrs', 'YearsCode',\n",
        "       'YearsCodePro', 'NormalizedAnnualCompensation']]"
      ],
      "execution_count": null,
      "outputs": []
    },
    {
      "cell_type": "code",
      "metadata": {
        "colab": {
          "base_uri": "https://localhost:8080/",
          "height": 235
        },
        "id": "-ShIFza56B2o",
        "outputId": "9487c485-405c-4ff6-e13c-464dd7f804e5"
      },
      "source": [
        "# your code goes here\n",
        "df.corr(method='pearson')"
      ],
      "execution_count": null,
      "outputs": [
        {
          "output_type": "execute_result",
          "data": {
            "text/html": [
              "<div>\n",
              "<style scoped>\n",
              "    .dataframe tbody tr th:only-of-type {\n",
              "        vertical-align: middle;\n",
              "    }\n",
              "\n",
              "    .dataframe tbody tr th {\n",
              "        vertical-align: top;\n",
              "    }\n",
              "\n",
              "    .dataframe thead th {\n",
              "        text-align: right;\n",
              "    }\n",
              "</style>\n",
              "<table border=\"1\" class=\"dataframe\">\n",
              "  <thead>\n",
              "    <tr style=\"text-align: right;\">\n",
              "      <th></th>\n",
              "      <th>Age</th>\n",
              "      <th>Respondent</th>\n",
              "      <th>CompTotal</th>\n",
              "      <th>ConvertedComp</th>\n",
              "      <th>WorkWeekHrs</th>\n",
              "      <th>NormalizedAnnualCompensation</th>\n",
              "    </tr>\n",
              "  </thead>\n",
              "  <tbody>\n",
              "    <tr>\n",
              "      <th>Age</th>\n",
              "      <td>1.000000</td>\n",
              "      <td>-0.007600</td>\n",
              "      <td>0.004144</td>\n",
              "      <td>0.093098</td>\n",
              "      <td>0.031990</td>\n",
              "      <td>-0.020290</td>\n",
              "    </tr>\n",
              "    <tr>\n",
              "      <th>Respondent</th>\n",
              "      <td>-0.007600</td>\n",
              "      <td>1.000000</td>\n",
              "      <td>-0.014262</td>\n",
              "      <td>0.004586</td>\n",
              "      <td>0.013355</td>\n",
              "      <td>-0.006012</td>\n",
              "    </tr>\n",
              "    <tr>\n",
              "      <th>CompTotal</th>\n",
              "      <td>0.004144</td>\n",
              "      <td>-0.014262</td>\n",
              "      <td>1.000000</td>\n",
              "      <td>-0.013292</td>\n",
              "      <td>0.019028</td>\n",
              "      <td>0.544287</td>\n",
              "    </tr>\n",
              "    <tr>\n",
              "      <th>ConvertedComp</th>\n",
              "      <td>0.093098</td>\n",
              "      <td>0.004586</td>\n",
              "      <td>-0.013292</td>\n",
              "      <td>1.000000</td>\n",
              "      <td>0.058915</td>\n",
              "      <td>-0.019895</td>\n",
              "    </tr>\n",
              "    <tr>\n",
              "      <th>WorkWeekHrs</th>\n",
              "      <td>0.031990</td>\n",
              "      <td>0.013355</td>\n",
              "      <td>0.019028</td>\n",
              "      <td>0.058915</td>\n",
              "      <td>1.000000</td>\n",
              "      <td>0.013339</td>\n",
              "    </tr>\n",
              "    <tr>\n",
              "      <th>NormalizedAnnualCompensation</th>\n",
              "      <td>-0.020290</td>\n",
              "      <td>-0.006012</td>\n",
              "      <td>0.544287</td>\n",
              "      <td>-0.019895</td>\n",
              "      <td>0.013339</td>\n",
              "      <td>1.000000</td>\n",
              "    </tr>\n",
              "  </tbody>\n",
              "</table>\n",
              "</div>"
            ],
            "text/plain": [
              "                                   Age  ...  NormalizedAnnualCompensation\n",
              "Age                           1.000000  ...                     -0.020290\n",
              "Respondent                   -0.007600  ...                     -0.006012\n",
              "CompTotal                     0.004144  ...                      0.544287\n",
              "ConvertedComp                 0.093098  ...                     -0.019895\n",
              "WorkWeekHrs                   0.031990  ...                      0.013339\n",
              "NormalizedAnnualCompensation -0.020290  ...                      1.000000\n",
              "\n",
              "[6 rows x 6 columns]"
            ]
          },
          "metadata": {
            "tags": []
          },
          "execution_count": 33
        }
      ]
    },
    {
      "cell_type": "markdown",
      "metadata": {
        "id": "QUTEHZW26B2p"
      },
      "source": [
        "## Authors\n"
      ]
    },
    {
      "cell_type": "markdown",
      "metadata": {
        "id": "5A19r-2e6B2p"
      },
      "source": [
        "Ramesh Sannareddy\n"
      ]
    },
    {
      "cell_type": "markdown",
      "metadata": {
        "id": "s2GcXdl46B2p"
      },
      "source": [
        "### Other Contributors\n"
      ]
    },
    {
      "cell_type": "markdown",
      "metadata": {
        "id": "7zlDCPU26B2q"
      },
      "source": [
        "Rav Ahuja\n"
      ]
    },
    {
      "cell_type": "markdown",
      "metadata": {
        "id": "exn4-c9F6B2q"
      },
      "source": [
        "## Change Log\n"
      ]
    },
    {
      "cell_type": "markdown",
      "metadata": {
        "id": "ObF8Cr636B2r"
      },
      "source": [
        "| Date (YYYY-MM-DD) | Version | Changed By        | Change Description                 |\n",
        "| ----------------- | ------- | ----------------- | ---------------------------------- |\n",
        "| 2020-10-17        | 0.1     | Ramesh Sannareddy | Created initial version of the lab |\n"
      ]
    },
    {
      "cell_type": "markdown",
      "metadata": {
        "id": "lNROmpwb6B2r"
      },
      "source": [
        " Copyright © 2020 IBM Corporation. This notebook and its source code are released under the terms of the [MIT License](https://cognitiveclass.ai/mit-license?cm_mmc=Email_Newsletter-_-Developer_Ed%2BTech-_-WW_WW-_-SkillsNetwork-Courses-IBM-DA0321EN-SkillsNetwork-21426264&cm_mmca1=000026UJ&cm_mmca2=10006555&cm_mmca3=M12345678&cvosrc=email.Newsletter.M12345678&cvo_campaign=000026UJ&cm_mmc=Email_Newsletter-_-Developer_Ed%2BTech-_-WW_WW-_-SkillsNetwork-Courses-IBM-DA0321EN-SkillsNetwork-21426264&cm_mmca1=000026UJ&cm_mmca2=10006555&cm_mmca3=M12345678&cvosrc=email.Newsletter.M12345678&cvo_campaign=000026UJ&cm_mmc=Email_Newsletter-_-Developer_Ed%2BTech-_-WW_WW-_-SkillsNetwork-Courses-IBM-DA0321EN-SkillsNetwork-21426264&cm_mmca1=000026UJ&cm_mmca2=10006555&cm_mmca3=M12345678&cvosrc=email.Newsletter.M12345678&cvo_campaign=000026UJ&cm_mmc=Email_Newsletter-_-Developer_Ed%2BTech-_-WW_WW-_-SkillsNetwork-Courses-IBM-DA0321EN-SkillsNetwork-21426264&cm_mmca1=000026UJ&cm_mmca2=10006555&cm_mmca3=M12345678&cvosrc=email.Newsletter.M12345678&cvo_campaign=000026UJ&cm_mmc=Email_Newsletter-_-Developer_Ed%2BTech-_-WW_WW-_-SkillsNetwork-Courses-IBM-DA0321EN-SkillsNetwork-21426264&cm_mmca1=000026UJ&cm_mmca2=10006555&cm_mmca3=M12345678&cvosrc=email.Newsletter.M12345678&cvo_campaign=000026UJ&cm_mmc=Email_Newsletter-_-Developer_Ed%2BTech-_-WW_WW-_-SkillsNetwork-Courses-IBM-DA0321EN-SkillsNetwork-21426264&cm_mmca1=000026UJ&cm_mmca2=10006555&cm_mmca3=M12345678&cvosrc=email.Newsletter.M12345678&cvo_campaign=000026UJ&cm_mmc=Email_Newsletter-_-Developer_Ed%2BTech-_-WW_WW-_-SkillsNetwork-Courses-IBM-DA0321EN-SkillsNetwork-21426264&cm_mmca1=000026UJ&cm_mmca2=10006555&cm_mmca3=M12345678&cvosrc=email.Newsletter.M12345678&cvo_campaign=000026UJ&cm_mmc=Email_Newsletter-_-Developer_Ed%2BTech-_-WW_WW-_-SkillsNetwork-Courses-IBM-DA0321EN-SkillsNetwork-21426264&cm_mmca1=000026UJ&cm_mmca2=10006555&cm_mmca3=M12345678&cvosrc=email.Newsletter.M12345678&cvo_campaign=000026UJ).\n"
      ]
    }
  ]
}